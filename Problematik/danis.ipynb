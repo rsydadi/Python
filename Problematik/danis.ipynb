{
 "cells": [
  {
   "cell_type": "markdown",
   "metadata": {},
   "source": [
    "PERMASALAHAN PYTHON DANIS PART 1"
   ]
  },
  {
   "cell_type": "code",
   "execution_count": 16,
   "metadata": {},
   "outputs": [
    {
     "name": "stdout",
     "output_type": "stream",
     "text": [
      "variabel dengan type <class 'int'>\n",
      "<class 'float'>\n",
      "<class 'int'>\n",
      "<class 'str'>\n",
      "<class 'str'>\n",
      "<class 'bool'>\n",
      "<class 'bool'>\n",
      "<class 'set'>\n",
      "<class 'set'>\n"
     ]
    }
   ],
   "source": [
    "var1 = 10\n",
    "var2 = 3.14\n",
    "var3 = -5\n",
    "print(\"variabel dengan type\", type(var1))\n",
    "print(type(var2))\n",
    "print(type(var3))\n",
    "\n",
    "var4 = \"Halo, dunia!\"\n",
    "var5 = 'Python sangat keren'\n",
    "print(type(var4))\n",
    "print(type(var5))\n",
    "\n",
    "var6 = True\n",
    "var7 = False\n",
    "print(type(var6))\n",
    "print(type(var7))\n",
    "\n",
    "var8 = [1, 2, 3, 4, 5]\n",
    "var9 = ['apel', 'pisang', 'jeruk']\n",
    "\n",
    "\n",
    "var10 = (1, 2, 3)\n",
    "var11 = ('a', 'b', 'c')\n",
    "\n",
    "\n",
    "var12 = {'nama': 'John', 'umur': 30, 'kota': 'Jakarta'}\n",
    "var13 = {'satu': 1, 'dua': 2, 'tiga': 3}\n",
    "\n",
    "\n",
    "var14 = {1, 2, 3, 4, 5}\n",
    "var15 = {'a', 'b', 'c'}\n",
    "\n",
    "var21 = 25\n",
    "var22 = 6.28\n",
    "var23 = -10\n",
    "\n",
    "\n",
    "var24 = \"Saya suka belajar pemrograman\"\n",
    "var25 = 'Python adalah bahasa favorit saya'\n",
    "\n",
    "\n",
    "var26 = True\n",
    "var27 = False\n",
    "\n",
    "\n",
    "var28 = [6, 7, 8, 9, 10]\n",
    "var29 = ['apel', 'pisang', 'nanas']\n",
    "\n",
    "\n",
    "var30 = (4, 5, 6)\n",
    "var31 = ('x', 'y', 'z')\n",
    "\n",
    "\n",
    "var32 = {'nama': 'Sarah', 'umur': 25, 'kota': 'Surabaya'}\n",
    "var33 = {'satu': 10, 'dua': 20, 'tiga': 30}\n",
    "\n",
    "\n",
    "var34 = {6, 7, 8, 9, 10}\n",
    "var35 = {'x', 'y', 'z'}\n",
    "print(type(var34))\n",
    "print(type(var35))"
   ]
  },
  {
   "cell_type": "code",
   "execution_count": null,
   "metadata": {},
   "outputs": [],
   "source": []
  }
 ],
 "metadata": {
  "kernelspec": {
   "display_name": "base",
   "language": "python",
   "name": "python3"
  },
  "language_info": {
   "codemirror_mode": {
    "name": "ipython",
    "version": 3
   },
   "file_extension": ".py",
   "mimetype": "text/x-python",
   "name": "python",
   "nbconvert_exporter": "python",
   "pygments_lexer": "ipython3",
   "version": "3.11.5"
  }
 },
 "nbformat": 4,
 "nbformat_minor": 2
}
