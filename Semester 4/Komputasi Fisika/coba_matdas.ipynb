{
 "cells": [
  {
   "cell_type": "code",
   "execution_count": 7,
   "id": "53ad4fb3-2eae-46de-a38d-9591ebb1f133",
   "metadata": {
    "tags": []
   },
   "outputs": [
    {
     "name": "stdout",
     "output_type": "stream",
     "text": [
      "Coba-coba matdas\n"
     ]
    }
   ],
   "source": [
    "print(\"Coba-coba matdas\")"
   ]
  },
  {
   "cell_type": "code",
   "execution_count": 1,
   "id": "31305033-1279-4b3e-80f9-ff25d5dc6e99",
   "metadata": {
    "tags": []
   },
   "outputs": [
    {
     "data": {
      "text/plain": [
       "40"
      ]
     },
     "execution_count": 1,
     "metadata": {},
     "output_type": "execute_result"
    }
   ],
   "source": [
    "a=5\n",
    "b=8\n",
    "a*b"
   ]
  },
  {
   "cell_type": "code",
   "execution_count": 3,
   "id": "3fd9976d-3eb6-401c-90ca-979a4fd1123c",
   "metadata": {
    "tags": []
   },
   "outputs": [],
   "source": [
    "c=(a+b)*(a*b)"
   ]
  },
  {
   "cell_type": "code",
   "execution_count": 4,
   "id": "9c816882-7887-465c-8905-f79e799422a8",
   "metadata": {
    "tags": []
   },
   "outputs": [
    {
     "data": {
      "text/plain": [
       "65.0"
      ]
     },
     "execution_count": 4,
     "metadata": {},
     "output_type": "execute_result"
    }
   ],
   "source": [
    "c/b"
   ]
  },
  {
   "cell_type": "code",
   "execution_count": 5,
   "id": "74038b7f-ce2c-4922-a103-36ddb922ecbb",
   "metadata": {
    "tags": []
   },
   "outputs": [
    {
     "data": {
      "text/plain": [
       "104.0"
      ]
     },
     "execution_count": 5,
     "metadata": {},
     "output_type": "execute_result"
    }
   ],
   "source": [
    "c/a"
   ]
  },
  {
   "cell_type": "code",
   "execution_count": 6,
   "id": "02e85721-9dbd-4212-9e34-badeb48944b9",
   "metadata": {
    "tags": []
   },
   "outputs": [
    {
     "data": {
      "text/plain": [
       "1872.0"
      ]
     },
     "execution_count": 6,
     "metadata": {},
     "output_type": "execute_result"
    }
   ],
   "source": [
    "(a+b)*(c/a)+c"
   ]
  }
 ],
 "metadata": {
  "kernelspec": {
   "display_name": "Python 3 (ipykernel)",
   "language": "python",
   "name": "python3"
  },
  "language_info": {
   "codemirror_mode": {
    "name": "ipython",
    "version": 3
   },
   "file_extension": ".py",
   "mimetype": "text/x-python",
   "name": "python",
   "nbconvert_exporter": "python",
   "pygments_lexer": "ipython3",
   "version": "3.11.5"
  }
 },
 "nbformat": 4,
 "nbformat_minor": 5
}
