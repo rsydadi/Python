{
 "cells": [
  {
   "cell_type": "markdown",
   "metadata": {},
   "source": [
    "### Rasyid Adi Sulistiawan\n",
    "### 22306144037\n",
    "### Fisika B 2022"
   ]
  },
  {
   "cell_type": "markdown",
   "metadata": {},
   "source": [
    "Capaian Pembelajaran\n",
    "\n",
    "Memahami dan dapat menerapkan teknik diferensiasi numerik: metoda beda \n",
    "hingga (beda maju, beda pusat dan beda mundur) dengan python \n",
    "\n",
    "Dalam Markdown, persamaan-persamaan diferensiasi numerik dapat dituliskan dengan menggunakan sintaks LaTeX. Berikut adalah persamaan-persamaan tersebut dalam format Markdown:\n",
    "\n",
    "1. Beda maju:\n",
    "$f'(x_j) = \\frac{f(x_j + h) - f(x_j)}{h}$\n",
    "\n",
    "2. Beda mundur:\n",
    "$f'(x_j) = \\frac{f(x_j) - f(x_j - h)}{h}$\n",
    "\n",
    "3. Beda pusat:\n",
    "$f'(x_j) = \\frac{f(x_j + h) - f(x_j - h)}{2h}$\n",
    "\n",
    "Dalam persamaan-persamaan di atas, $f'(x_j)$ menyatakan turunan fungsi $f(x)$ pada titik $x = x_j$, $h$ adalah langkah atau increment yang digunakan, sedangkan $x_j$ adalah titik di mana turunan dihitung. Beda maju menghitung turunan dengan menggunakan nilai fungsi di depan titik $x_j$, beda mundur menggunakan nilai fungsi di belakang titik $x_j$, dan beda pusat menggunakan nilai fungsi di sekitar titik $x_j$."
   ]
  }
 ],
 "metadata": {
  "language_info": {
   "name": "python"
  }
 },
 "nbformat": 4,
 "nbformat_minor": 2
}
