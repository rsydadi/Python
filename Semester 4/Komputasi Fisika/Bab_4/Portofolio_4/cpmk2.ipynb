{
 "cells": [
  {
   "cell_type": "markdown",
   "metadata": {},
   "source": [
    "### Rasyid Adi Sulistiawan\n",
    "### 22306144037\n",
    "### Fisika B 2022"
   ]
  },
  {
   "cell_type": "markdown",
   "metadata": {},
   "source": [
    "Capaian Pembelajaran\n",
    "\n",
    "Memahami dan dapat menerapkan teknik integrasiu numerik: metoda tengah, \n",
    "trapesium, dan simpson dengan python\n",
    "\n",
    "Aturan titik tengah, juga dikenal sebagai aturan persegi panjang, adalah salah satu aturan kuadratur yang paling sederhana. Pada aturan ini, subinterval $[x_i, x_{i+1}]$ diperkirakan integralnya dengan menggunakan luas persegi panjang. Luas persegi panjang ini memiliki panjang alas sebesar $(x_{i+1} - x_i)$ dan tinggi sebesar nilai $f(x)$ pada titik tengah subinterval tersebut.\n",
    "\n",
    "Meskipun disebut sebagai aturan persegi panjang, bentuk irisan yang digunakan tidak selalu berbentuk persegi panjang; itu bisa berbentuk trapesium. Aturan Simpson adalah teknik kuadratur yang dihasilkan dari aturan trapesium di mana lebar subinterval dikalikan dengan nilai rata-rata dari $f(x_i)$ dan $f(x_{i+1})$.\n",
    "\n",
    "Saya pikir pemahaman saya tentang aturan tengah, aturan trapesium, dan aturan Simpson sedikit kurang pada CPMK ini karena saya mengali banyak kesalahan yang terjadi di bagian ini. Oleh karena itu, saya harus mencari tutorial di YouTube atau AI untuk menemukan kesalahan saya di bagian mana."
   ]
  },
  {
   "cell_type": "code",
   "execution_count": null,
   "metadata": {},
   "outputs": [],
   "source": []
  }
 ],
 "metadata": {
  "language_info": {
   "name": "python"
  }
 },
 "nbformat": 4,
 "nbformat_minor": 2
}
