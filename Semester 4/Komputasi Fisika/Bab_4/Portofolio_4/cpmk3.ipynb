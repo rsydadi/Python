{
 "cells": [
  {
   "cell_type": "markdown",
   "metadata": {},
   "source": [
    "### Rasyid Adi Sulistiawan\n",
    "### 22306144037\n",
    "### Fisika B 2022"
   ]
  },
  {
   "cell_type": "markdown",
   "metadata": {},
   "source": [
    "Capaian Pembelajaran\n",
    "\n",
    "Dapat menganalisis error dari metoda numerik yang digunakan\n",
    "\n",
    "Metoda Tengah (Midpoint Rule)\n",
    "    • Kesalahan metode tengah biasanya lebih kecil dibandingkan dengan metode trapesium untuk fungsi-fungsi yang memiliki turunan kedua yang besar (berfluktuasi secara drastis), karena metode tengah menggunakan nilai tengah di setiap subinterval.\n",
    "Metoda Trapesium (Trapezoidal Rule) \n",
    "    • Kesalahan metode trapesium biasanya lebih besar daripada metode tengah untuk fungsi-fungsi yang memiliki turunan kedua yang besar, karena metode trapesium menggunakan garis lurus untuk mengaproksimasi area di bawah kurva.\n",
    "Metoda Simpson (Simpson's Rule)\n",
    "     Metode Simpson sering memberikan hasil yang lebih akurat daripada metode trapesium dan metode tengah, terutama untuk fungsi-fungsi yang memiliki pola yang lebih kompleks atau kurva yang bergelombang.\n",
    "\n",
    "Dalam praktiknya, pemilihan metode tergantung pada sifat fungsi yang diintegralkan  dan jumlah komputasi yang dapat diterima. Metode dengan orde konvergensi yang  lebih tinggi biasanya memberikan hasil yang lebih akurat untuk jumlah subinterval  yang sama, tetapi seringkali membutuhkan lebih banyak komputasi."
   ]
  }
 ],
 "metadata": {
  "language_info": {
   "name": "python"
  }
 },
 "nbformat": 4,
 "nbformat_minor": 2
}
