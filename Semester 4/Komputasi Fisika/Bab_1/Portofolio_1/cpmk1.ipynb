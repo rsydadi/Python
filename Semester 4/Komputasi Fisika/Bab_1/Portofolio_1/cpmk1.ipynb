{
 "cells": [
  {
   "cell_type": "markdown",
   "metadata": {},
   "source": [
    "Mahasiswa dapat memahami simbol operasi matematis dasar dan penggunaannya"
   ]
  },
  {
   "cell_type": "markdown",
   "metadata": {},
   "source": [
    "Matematis Dasar"
   ]
  },
  {
   "cell_type": "markdown",
   "metadata": {},
   "source": [
    "1. Simbol + adalah pertambahan\n",
    "2. Simbol - adalah pengurangan\n",
    "3. Simbol / adalah pembagian\n",
    "4. Simbol // adalah pembagian, dibulatkan ke bilangan bulat terdekat\n",
    "5. Simbol % adalah modulus (sisa pembagian)\n",
    "6. Simbol * adalah perkalian\n",
    "7. Simbol ** atau menggunakan fungsi pow adalah perpangkatan"
   ]
  },
  {
   "cell_type": "code",
   "execution_count": 2,
   "metadata": {},
   "outputs": [
    {
     "name": "stdout",
     "output_type": "stream",
     "text": [
      "15\n"
     ]
    }
   ],
   "source": [
    "# Pertambahan\n",
    "a = 10\n",
    "b = 5\n",
    "c = a + b\n",
    "print(c) # Output: 15"
   ]
  },
  {
   "cell_type": "code",
   "execution_count": 3,
   "metadata": {},
   "outputs": [
    {
     "name": "stdout",
     "output_type": "stream",
     "text": [
      "5\n"
     ]
    }
   ],
   "source": [
    "# Pengurangan\n",
    "a = 10\n",
    "b = 5\n",
    "c = a - b\n",
    "print(c) # Output: 5"
   ]
  },
  {
   "cell_type": "code",
   "execution_count": 4,
   "metadata": {},
   "outputs": [
    {
     "name": "stdout",
     "output_type": "stream",
     "text": [
      "2.0\n"
     ]
    }
   ],
   "source": [
    "# Pembagian\n",
    "a = 10\n",
    "b = 5\n",
    "c = a / b\n",
    "print(c) # Output: 2.0"
   ]
  },
  {
   "cell_type": "code",
   "execution_count": 5,
   "metadata": {},
   "outputs": [
    {
     "name": "stdout",
     "output_type": "stream",
     "text": [
      "3\n"
     ]
    }
   ],
   "source": [
    "# Pembagian (dibulatkan ke bilangan bulat terdekat)\n",
    "a = 10\n",
    "b = 3\n",
    "c = a // b\n",
    "print(c) # Output: 3"
   ]
  },
  {
   "cell_type": "code",
   "execution_count": 11,
   "metadata": {},
   "outputs": [
    {
     "name": "stdout",
     "output_type": "stream",
     "text": [
      "1\n"
     ]
    }
   ],
   "source": [
    "# Modulus (sisa pembagian)\n",
    "a = 201\n",
    "b = 4\n",
    "c = a % b\n",
    "# 201 / 4 = 50 sisa 1\n",
    "print(c) # Output: 1"
   ]
  },
  {
   "cell_type": "code",
   "execution_count": 7,
   "metadata": {},
   "outputs": [
    {
     "name": "stdout",
     "output_type": "stream",
     "text": [
      "50\n"
     ]
    }
   ],
   "source": [
    "# Perkalian\n",
    "a = 10\n",
    "b = 5\n",
    "c = a * b\n",
    "print(c) # Output: 50"
   ]
  },
  {
   "cell_type": "code",
   "execution_count": 19,
   "metadata": {},
   "outputs": [
    {
     "name": "stdout",
     "output_type": "stream",
     "text": [
      "32 (menggunakan **) dan 32 (menggunakan pow)\n"
     ]
    }
   ],
   "source": [
    "# Perpangkatan\n",
    "a = 2\n",
    "b = 5\n",
    "c = a ** b\n",
    "d = pow(a, b)\n",
    "print((c),'(menggunakan **) dan', (d), ('(menggunakan pow)')) # Output: 32 (menggunakan **) dan 32 (menggunakan pow)"
   ]
  },
  {
   "cell_type": "markdown",
   "metadata": {},
   "source": [
    "Operator Perbandingan/Relasi\n",
    "\n",
    "1. Lebih besar: >\n",
    "2. Lebih kecil: <\n",
    "3. Sama dengan: ==\n",
    "4. Tidak sama dengan: !=\n",
    "5. Lebih besar sama dengan: >=\n",
    "6. Lebih kecil sama dengan: <="
   ]
  },
  {
   "cell_type": "code",
   "execution_count": 1,
   "metadata": {},
   "outputs": [
    {
     "name": "stdout",
     "output_type": "stream",
     "text": [
      "x > y \t: True\n",
      "x < y \t: False\n",
      "x == y \t: False\n",
      "x != y \t: True\n",
      "x >= y \t: True\n",
      "x <= y \t: False\n"
     ]
    }
   ],
   "source": [
    "x = 5\n",
    "y = 4\n",
    "\n",
    "print(\"x > y \\t:\", x > y) # Output: True (lebih besar)\n",
    "print(\"x < y \\t:\", x < y) # Output: False (lebih kecil)\n",
    "print(\"x == y \\t:\", x == y) # Output: False (sama dengan)\n",
    "print(\"x != y \\t:\", x != y) # Output: True (tidak sama dengan)\n",
    "print(\"x >= y \\t:\", x >= y) # Output: True (lebih besar sama dengan)\n",
    "print(\"x <= y \\t:\", x <= y) # Output: False (lebih kecil sama dengan)"
   ]
  },
  {
   "cell_type": "markdown",
   "metadata": {},
   "source": [
    "Operator Penugasan\n",
    "\n",
    "1. Pengisian: =\n",
    "2. Penjumlahan: +=\n",
    "3. Pengurangan: -=\n",
    "4. Perkalian: *=\n",
    "5. Pembagian: /=\n",
    "6. Sisa bagi: %=\n",
    "7. Pemangktan: **="
   ]
  },
  {
   "cell_type": "code",
   "execution_count": null,
   "metadata": {},
   "outputs": [],
   "source": [
    "# Pengisian\n",
    "x = 5\n",
    "print(x) # Output: 5"
   ]
  },
  {
   "cell_type": "code",
   "execution_count": 2,
   "metadata": {},
   "outputs": [
    {
     "name": "stdout",
     "output_type": "stream",
     "text": [
      "10\n"
     ]
    }
   ],
   "source": [
    "# Penjumlahan\n",
    "x = 5\n",
    "x += 5 # artinya x = x + 5\n",
    "print(x) # Output: 10"
   ]
  },
  {
   "cell_type": "code",
   "execution_count": 3,
   "metadata": {},
   "outputs": [
    {
     "name": "stdout",
     "output_type": "stream",
     "text": [
      "0\n"
     ]
    }
   ],
   "source": [
    "# Pengurangan\n",
    "x = 5\n",
    "x -= 5 # artinya x = x - 5\n",
    "print(x) # Output: 0"
   ]
  },
  {
   "cell_type": "code",
   "execution_count": 4,
   "metadata": {},
   "outputs": [
    {
     "name": "stdout",
     "output_type": "stream",
     "text": [
      "25\n"
     ]
    }
   ],
   "source": [
    "# Perkalian\n",
    "x = 5\n",
    "x *= 5 # artinya x = x * 5\n",
    "print(x) # Output: 25"
   ]
  },
  {
   "cell_type": "code",
   "execution_count": 5,
   "metadata": {},
   "outputs": [
    {
     "name": "stdout",
     "output_type": "stream",
     "text": [
      "1.0\n"
     ]
    }
   ],
   "source": [
    "# Pembagian\n",
    "x = 5\n",
    "x /= 5 # artinya x = x / 5\n",
    "print(x) # Output: 1.0"
   ]
  },
  {
   "cell_type": "code",
   "execution_count": 6,
   "metadata": {},
   "outputs": [
    {
     "name": "stdout",
     "output_type": "stream",
     "text": [
      "2\n"
     ]
    }
   ],
   "source": [
    "# Sisa bagi\n",
    "x = 5\n",
    "x %= 3 # artinya x = x % 3\n",
    "print(x) # Output: 2"
   ]
  },
  {
   "cell_type": "code",
   "execution_count": 7,
   "metadata": {},
   "outputs": [
    {
     "name": "stdout",
     "output_type": "stream",
     "text": [
      "125\n"
     ]
    }
   ],
   "source": [
    "# Pemangkatan\n",
    "x = 5\n",
    "x **= 3 # artinya x = x ** 5\n",
    "print(x) # Output: 125"
   ]
  }
 ],
 "metadata": {
  "kernelspec": {
   "display_name": "Python 3",
   "language": "python",
   "name": "python3"
  },
  "language_info": {
   "codemirror_mode": {
    "name": "ipython",
    "version": 3
   },
   "file_extension": ".py",
   "mimetype": "text/x-python",
   "name": "python",
   "nbconvert_exporter": "python",
   "pygments_lexer": "ipython3",
   "version": "3.11.5"
  }
 },
 "nbformat": 4,
 "nbformat_minor": 2
}
