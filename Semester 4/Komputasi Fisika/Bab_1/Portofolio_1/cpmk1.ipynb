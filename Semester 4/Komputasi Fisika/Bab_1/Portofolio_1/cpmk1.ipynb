{
 "cells": [
  {
   "cell_type": "markdown",
   "metadata": {},
   "source": [
    "Mahasiswa dapat memahami simbol operasi matematis dasar dan penggunaannya"
   ]
  },
  {
   "cell_type": "markdown",
   "metadata": {},
   "source": [
    "Matematis Dasar"
   ]
  },
  {
   "cell_type": "markdown",
   "metadata": {},
   "source": [
    "1. Simbol + adalah pertambahan\n",
    "2. Simbol - adalah pengurangan\n",
    "3. Simbol / adalah pembagian\n",
    "4. Simbol // adalah pembagian, dibulatkan ke bilangan bulat terdekat\n",
    "5. Simbol % adalah modulus (sisa pembagian)\n",
    "6. Simbol * adalah perkalian\n",
    "7. Simbol ** atau menggunakan fungsi pow adalah perpangkatan"
   ]
  },
  {
   "cell_type": "code",
   "execution_count": 2,
   "metadata": {},
   "outputs": [
    {
     "name": "stdout",
     "output_type": "stream",
     "text": [
      "15\n"
     ]
    }
   ],
   "source": [
    "# Pertambahan\n",
    "a = 10\n",
    "b = 5\n",
    "c = a + b\n",
    "print(c)"
   ]
  },
  {
   "cell_type": "code",
   "execution_count": 3,
   "metadata": {},
   "outputs": [
    {
     "name": "stdout",
     "output_type": "stream",
     "text": [
      "5\n"
     ]
    }
   ],
   "source": [
    "# Pengurangan\n",
    "a = 10\n",
    "b = 5\n",
    "c = a - b\n",
    "print(c)"
   ]
  },
  {
   "cell_type": "code",
   "execution_count": 4,
   "metadata": {},
   "outputs": [
    {
     "name": "stdout",
     "output_type": "stream",
     "text": [
      "2.0\n"
     ]
    }
   ],
   "source": [
    "# Pembagian\n",
    "a = 10\n",
    "b = 5\n",
    "c = a / b\n",
    "print(c)"
   ]
  },
  {
   "cell_type": "code",
   "execution_count": 5,
   "metadata": {},
   "outputs": [
    {
     "name": "stdout",
     "output_type": "stream",
     "text": [
      "3\n"
     ]
    }
   ],
   "source": [
    "# Pembagian (dibulatkan ke bilangan bulat terdekat)\n",
    "a = 10\n",
    "b = 3\n",
    "c = a // b\n",
    "print(c)"
   ]
  },
  {
   "cell_type": "code",
   "execution_count": 11,
   "metadata": {},
   "outputs": [
    {
     "name": "stdout",
     "output_type": "stream",
     "text": [
      "1\n"
     ]
    }
   ],
   "source": [
    "# Modulus (sisa pembagian)\n",
    "a = 201\n",
    "b = 4\n",
    "c = a % b\n",
    "# 201 / 4 = 50 sisa 1\n",
    "print(c)"
   ]
  },
  {
   "cell_type": "code",
   "execution_count": 7,
   "metadata": {},
   "outputs": [
    {
     "name": "stdout",
     "output_type": "stream",
     "text": [
      "50\n"
     ]
    }
   ],
   "source": [
    "# Perkalian\n",
    "a = 10\n",
    "b = 5\n",
    "c = a * b\n",
    "print(c)"
   ]
  },
  {
   "cell_type": "code",
   "execution_count": 19,
   "metadata": {},
   "outputs": [
    {
     "name": "stdout",
     "output_type": "stream",
     "text": [
      "32 (menggunakan **) dan 32 (menggunakan pow)\n"
     ]
    }
   ],
   "source": [
    "# Perpangkatan\n",
    "a = 2\n",
    "b = 5\n",
    "c = a ** b\n",
    "d = pow(a, b)\n",
    "print((c),'(menggunakan **) dan', (d), ('(menggunakan pow)'))"
   ]
  },
  {
   "cell_type": "code",
   "execution_count": null,
   "metadata": {},
   "outputs": [],
   "source": []
  }
 ],
 "metadata": {
  "kernelspec": {
   "display_name": "Python 3",
   "language": "python",
   "name": "python3"
  },
  "language_info": {
   "codemirror_mode": {
    "name": "ipython",
    "version": 3
   },
   "file_extension": ".py",
   "mimetype": "text/x-python",
   "name": "python",
   "nbconvert_exporter": "python",
   "pygments_lexer": "ipython3",
   "version": "3.11.5"
  }
 },
 "nbformat": 4,
 "nbformat_minor": 2
}
