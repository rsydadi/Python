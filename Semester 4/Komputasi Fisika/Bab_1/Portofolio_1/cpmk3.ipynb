{
 "cells": [
  {
   "cell_type": "markdown",
   "metadata": {},
   "source": [
    "Mahasiswa mengetahui cara membuat variabel string dan pengoperasiannya"
   ]
  },
  {
   "cell_type": "markdown",
   "metadata": {},
   "source": [
    "String"
   ]
  },
  {
   "cell_type": "markdown",
   "metadata": {},
   "source": [
    "String adalah kumpulan huruf, kata, atau karakter lainnya"
   ]
  },
  {
   "cell_type": "code",
   "execution_count": 1,
   "metadata": {},
   "outputs": [
    {
     "name": "stdout",
     "output_type": "stream",
     "text": [
      "Hello World\n"
     ]
    }
   ],
   "source": [
    "# Contoh data string\n",
    "data = \"Hello World\"\n",
    "print(data) # Output: Hello World"
   ]
  },
  {
   "cell_type": "markdown",
   "metadata": {},
   "source": [
    "Operasi dan Manipulasi bilangan\n",
    "1. Rangkaian: +\n",
    "2. Pengulangan: *\n",
    "3. Mengiris: [mulai.akhir]\n",
    "4. Metode: .upper(), .lower(), .replace(), .split()"
   ]
  },
  {
   "cell_type": "code",
   "execution_count": 9,
   "metadata": {},
   "outputs": [
    {
     "name": "stdout",
     "output_type": "stream",
     "text": [
      "Hello World\n",
      "Hello WorldHello WorldHello World\n",
      "Hello W\n",
      "HELLO WORLD\n",
      "hello world\n",
      "Hello Friend\n",
      "['He', '', 'o Wor', 'd']\n"
     ]
    }
   ],
   "source": [
    "kata1 = \"Hello\"\n",
    "kata2 = \"World\"\n",
    "\n",
    "# Rangkaian string\n",
    "data = kata1 + \" \" + kata2\n",
    "print(data) # Output: Hello World\n",
    "\n",
    "# Pengulangan string\n",
    "data2 = data * 3\n",
    "print(data2) # Output: Hello WorldHello WorldHello World\n",
    "\n",
    "# Pengirisan string\n",
    "data3 = data[0:7] # Mengambil karakter dari indeks 0 hingga 7 (tidak termasuk 7)\n",
    "print(data3) # Output: Hello W\n",
    "\n",
    "# Metode string\n",
    "besar_str = data.upper()\n",
    "kecil_str = data.lower()\n",
    "ubah_str = data.replace(\"World\", \"Friend\")\n",
    "pisah_str = data.split(\"l\")\n",
    "print(besar_str) # Output: HELLO WORLD\n",
    "print(kecil_str) # Output: hello world\n",
    "print(ubah_str) # Output: Hello Friend\n",
    "print(pisah_str) # Output: ['He', '', 'o Wor', 'd']"
   ]
  }
 ],
 "metadata": {
  "kernelspec": {
   "display_name": "base",
   "language": "python",
   "name": "python3"
  },
  "language_info": {
   "codemirror_mode": {
    "name": "ipython",
    "version": 3
   },
   "file_extension": ".py",
   "mimetype": "text/x-python",
   "name": "python",
   "nbconvert_exporter": "python",
   "pygments_lexer": "ipython3",
   "version": "3.11.5"
  }
 },
 "nbformat": 4,
 "nbformat_minor": 2
}
