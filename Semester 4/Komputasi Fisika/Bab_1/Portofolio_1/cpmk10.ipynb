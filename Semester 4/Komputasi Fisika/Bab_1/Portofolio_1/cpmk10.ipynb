{
 "cells": [
  {
   "cell_type": "markdown",
   "metadata": {},
   "source": [
    "Mahasiswa dapat menggunakan perulangan for dan while dalam menyelesaikan masalah"
   ]
  },
  {
   "cell_type": "markdown",
   "metadata": {},
   "source": [
    "Benar sekali! Perulangan `for` dan `while` adalah alat yang sangat berguna dalam menyelesaikan berbagai masalah pemrograman. Keduanya memungkinkan untuk melakukan iterasi atau pengulangan kode berulang kali, tetapi memiliki cara kerja yang sedikit berbeda.\n",
    "\n",
    "- **Perulangan for**: Digunakan ketika kita tahu berapa kali kita ingin melakukan iterasi. Biasanya digunakan ketika kita ingin melakukan iterasi melalui elemen-elemen dalam sebuah urutan (seperti daftar, tuple, atau string) atau ketika kita ingin mengulangi kode sejumlah tertentu dengan rentang yang sudah ditentukan.\n",
    "\n",
    "Contoh:\n",
    "```python\n",
    "for i in range(5):\n",
    "    print(i)\n",
    "```\n",
    "\n",
    "- **Perulangan while**: Digunakan ketika kita ingin melakukan iterasi selama kondisi tertentu terpenuhi. Kondisi tersebut dievaluasi sebelum setiap iterasi. Perulangan while akan terus berjalan selama kondisi tersebut benar (True).\n",
    "\n",
    "Contoh:\n",
    "```python\n",
    "i = 0\n",
    "while i < 5:\n",
    "    print(i)\n",
    "    i += 1\n",
    "```\n",
    "\n",
    "Kedua jenis perulangan ini sangat berguna dan memiliki kegunaan yang berbeda tergantung pada situasi. Dengan memahami keduanya, mahasiswa dapat memilih dan menggunakan perulangan yang sesuai untuk menyelesaikan berbagai masalah pemrograman dengan efisien."
   ]
  },
  {
   "cell_type": "code",
   "execution_count": 1,
   "metadata": {},
   "outputs": [
    {
     "name": "stdout",
     "output_type": "stream",
     "text": [
      "Faktorial dari 2 adalah: 2\n"
     ]
    }
   ],
   "source": [
    "def faktorial_for(x):\n",
    "    # Inisialisasi faktorial dengan nilai awal 1\n",
    "    faktorial = 1\n",
    "    \n",
    "    # Periksa apakah input adalah bilangan positif\n",
    "    if x < 0:\n",
    "        return \"Input harus bilangan positif\"\n",
    "    \n",
    "    # Hitung faktorial menggunakan loop for\n",
    "    for i in range(1, x + 1):\n",
    "        faktorial *= i\n",
    "        \n",
    "    return faktorial\n",
    "\n",
    "# Input dari pengguna\n",
    "bilangan = int(input(\"Masukkan bilangan integer positif: \"))\n",
    "\n",
    "# Panggil fungsi faktorial_for dan cetak hasilnya\n",
    "print(\"Faktorial dari\", bilangan, \"adalah:\", faktorial_for(bilangan))\n"
   ]
  },
  {
   "cell_type": "code",
   "execution_count": 2,
   "metadata": {},
   "outputs": [
    {
     "name": "stdout",
     "output_type": "stream",
     "text": [
      "Faktorial dari 3 adalah: 6\n"
     ]
    }
   ],
   "source": [
    "def faktorial_while(x):\n",
    "    # Inisialisasi faktorial dengan nilai awal 1\n",
    "    faktorial = 1\n",
    "    \n",
    "    # Periksa apakah input adalah bilangan positif\n",
    "    if x < 0:\n",
    "        return \"Input harus bilangan positif\"\n",
    "    \n",
    "    # Hitung faktorial menggunakan loop while\n",
    "    while x > 1:\n",
    "        faktorial *= x\n",
    "        x -= 1\n",
    "        \n",
    "    return faktorial\n",
    "\n",
    "# Input dari pengguna\n",
    "bilangan = int(input(\"Masukkan bilangan integer positif: \"))\n",
    "\n",
    "# Panggil fungsi faktorial_while dan cetak hasilnya\n",
    "print(\"Faktorial dari\", bilangan, \"adalah:\", faktorial_while(bilangan))"
   ]
  },
  {
   "cell_type": "code",
   "execution_count": 4,
   "metadata": {},
   "outputs": [
    {
     "name": "stdout",
     "output_type": "stream",
     "text": [
      "2 adalah bilangan prima.\n"
     ]
    }
   ],
   "source": [
    "n = int(input(\"Masukkan sebuah bilangan bulat > 1: \")) \n",
    "i = 2\n",
    "while (n % i) != 0:\n",
    "    i += 1 \n",
    "\n",
    "if n == i:\n",
    "    print(f\"{n} adalah bilangan prima.\")\n",
    "else:\n",
    "    print(f\"Faktor terkecil dari {n} adalah:\", i )"
   ]
  },
  {
   "cell_type": "markdown",
   "metadata": {},
   "source": [
    "Program tersebut berfungsi untuk menemukan faktor terkecil dari sebuah bilangan bulat yang lebih besar dari 1 yang dimasukkan oleh pengguna. Pertama, pengguna diminta untuk memasukkan bilangan bulat tersebut. Selanjutnya, program memeriksa secara berurutan mulai dari bilangan 2 apakah bilangan tersebut dapat dibagi habis oleh suatu bilangan. Hal ini dilakukan dengan menggunakan loop `while` yang berjalan selama sisa pembagian dari bilangan tersebut oleh bilangan uji `i` tidak sama dengan 0. Setiap iterasi, nilai `i` ditingkatkan satu per satu untuk memeriksa faktor-faktor potensial dari bilangan tersebut. Jika suatu faktor ditemukan, loop `while` berhenti, dan faktor terkecil tersebut dicetak. Sebagai contoh, jika pengguna memasukkan bilangan 15, program akan menemukan faktor terkecilnya, yaitu 3, karena 15 dapat dibagi habis oleh 3 tanpa sisa. Loop `while` selalu berhenti karena selalu ada faktor dari bilangan tersebut yang ditemukan sebelum atau saat nilai `i` mencapai nilai bilangan tersebut, sehingga tidak perlu diteruskan ke nilai yang lebih besar."
   ]
  },
  {
   "cell_type": "code",
   "execution_count": 5,
   "metadata": {},
   "outputs": [
    {
     "name": "stdout",
     "output_type": "stream",
     "text": [
      "[3, 6, 9]\n"
     ]
    }
   ],
   "source": [
    "x = [[1, 2, 3], [4, 5, 6], [7, 8, 9]]\n",
    "kolom_terakhir = [baris[-1] for baris in x]\n",
    "print(kolom_terakhir)"
   ]
  },
  {
   "cell_type": "markdown",
   "metadata": {},
   "source": [
    "Dalam kode ini, `baris[-1]` mengambil elemen terakhir dari setiap sublist `baris` dalam matriks `x`. Kemudian, list comprehension digunakan untuk melakukan iterasi melalui setiap sublist dan mengumpulkan elemen terakhirnya ke dalam list `kolom_terakhir`. Hasilnya adalah `[3, 6, 9]`, yang merupakan ekstraksi dari kolom terakhir matriks `x`."
   ]
  },
  {
   "cell_type": "code",
   "execution_count": 6,
   "metadata": {},
   "outputs": [
    {
     "name": "stdout",
     "output_type": "stream",
     "text": [
      "[8, 50, 128]\n"
     ]
    }
   ],
   "source": [
    "x = [[1, 2, 3], [4, 5, 6], [7, 8, 9]]\n",
    "vektor_dua_kali_kuadrat = [2 * baris[1] ** 2 for baris in x]\n",
    "print(vektor_dua_kali_kuadrat)"
   ]
  },
  {
   "cell_type": "markdown",
   "metadata": {},
   "source": [
    "Dalam kode ini, `baris[1] ** 2` mengambil elemen di kolom tengah dari setiap sublist `baris` dan mengkuadratkannya. Kemudian, hasilnya dikalikan dengan 2. List comprehension digunakan untuk melakukan iterasi melalui setiap sublist dan mengumpulkan hasil operasi tersebut ke dalam list `vektor_dua_kali_kuadrat`. Hasilnya adalah `[8, 50, 128]`, yang merupakan vektor dua kali kuadrat dari kolom tengah matriks `x`."
   ]
  },
  {
   "cell_type": "code",
   "execution_count": null,
   "metadata": {},
   "outputs": [],
   "source": []
  }
 ],
 "metadata": {
  "kernelspec": {
   "display_name": "base",
   "language": "python",
   "name": "python3"
  },
  "language_info": {
   "codemirror_mode": {
    "name": "ipython",
    "version": 3
   },
   "file_extension": ".py",
   "mimetype": "text/x-python",
   "name": "python",
   "nbconvert_exporter": "python",
   "pygments_lexer": "ipython3",
   "version": "3.11.5"
  }
 },
 "nbformat": 4,
 "nbformat_minor": 2
}
