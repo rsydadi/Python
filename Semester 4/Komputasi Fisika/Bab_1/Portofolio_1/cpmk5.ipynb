{
 "cells": [
  {
   "cell_type": "markdown",
   "metadata": {},
   "source": [
    "Mahasiswa dapat membuat array, mengindeks, dan mengoperasikannya"
   ]
  },
  {
   "cell_type": "markdown",
   "metadata": {},
   "source": [
    "Array"
   ]
  },
  {
   "cell_type": "markdown",
   "metadata": {},
   "source": [
    "Membuat array 1D"
   ]
  },
  {
   "cell_type": "code",
   "execution_count": 2,
   "metadata": {},
   "outputs": [
    {
     "name": "stdout",
     "output_type": "stream",
     "text": [
      "[1 2 3 4 5]\n"
     ]
    }
   ],
   "source": [
    "# List menjadi array\n",
    "import numpy as np\n",
    "a = [1, 2, 3, 4, 5]\n",
    "b = np.array(a)\n",
    "print(b)"
   ]
  },
  {
   "cell_type": "markdown",
   "metadata": {},
   "source": [
    "Linspace: Membuat N titik dengan jarak yang sama antara titik awal dan titik akhir. Bentuknya adalah linspace(start, stop, N).\n",
    "\n",
    "Logspace: Bentuknya adalah logspace(start, stop,N). Namun, pada bagian start  dan stop mengacu pangkat 10 artinya array dimulai pada 10^start dan berakhir pada 10^stop"
   ]
  },
  {
   "cell_type": "code",
   "execution_count": 3,
   "metadata": {},
   "outputs": [
    {
     "name": "stdout",
     "output_type": "stream",
     "text": [
      "[ 0.   2.5  5.   7.5 10. ]\n",
      "[1.00000000e+00 3.16227766e+02 1.00000000e+05 3.16227766e+07\n",
      " 1.00000000e+10]\n"
     ]
    }
   ],
   "source": [
    "# Linspace\n",
    "c = np.linspace(0, 10, 5)\n",
    "print(c)\n",
    "\n",
    "# Logspace\n",
    "d = np.logspace(0, 10, 5)\n",
    "print(d)"
   ]
  },
  {
   "cell_type": "code",
   "execution_count": 4,
   "metadata": {},
   "outputs": [
    {
     "name": "stdout",
     "output_type": "stream",
     "text": [
      "[0 2 4 6 8]\n"
     ]
    }
   ],
   "source": [
    "# Arange\n",
    "e = np.arange(0, 10, 2) # Bentuk fungsi arange adalah arange(start, stop, step)\n",
    "print(e)"
   ]
  },
  {
   "cell_type": "code",
   "execution_count": 6,
   "metadata": {},
   "outputs": [
    {
     "data": {
      "text/plain": [
       "array([0., 0., 0., 0., 0.])"
      ]
     },
     "execution_count": 6,
     "metadata": {},
     "output_type": "execute_result"
    }
   ],
   "source": [
    "np.zeros(5) # Membuat array dengan 5 elemen 0"
   ]
  },
  {
   "cell_type": "code",
   "execution_count": 7,
   "metadata": {},
   "outputs": [
    {
     "data": {
      "text/plain": [
       "array([1., 1., 1., 1., 1.])"
      ]
     },
     "execution_count": 7,
     "metadata": {},
     "output_type": "execute_result"
    }
   ],
   "source": [
    "np.ones(5) # Membuat array dengan 5 elemen 1"
   ]
  },
  {
   "cell_type": "code",
   "execution_count": 8,
   "metadata": {},
   "outputs": [
    {
     "data": {
      "text/plain": [
       "array([[1., 0., 0., 0., 0.],\n",
       "       [0., 1., 0., 0., 0.],\n",
       "       [0., 0., 1., 0., 0.],\n",
       "       [0., 0., 0., 1., 0.],\n",
       "       [0., 0., 0., 0., 1.]])"
      ]
     },
     "execution_count": 8,
     "metadata": {},
     "output_type": "execute_result"
    }
   ],
   "source": [
    "np.eye(5) # Membuat array dengan 5x5 elemen 1"
   ]
  },
  {
   "cell_type": "code",
   "execution_count": 9,
   "metadata": {},
   "outputs": [
    {
     "data": {
      "text/plain": [
       "array([[1, 0, 0, 0, 0],\n",
       "       [0, 2, 0, 0, 0],\n",
       "       [0, 0, 3, 0, 0],\n",
       "       [0, 0, 0, 4, 0],\n",
       "       [0, 0, 0, 0, 5]])"
      ]
     },
     "execution_count": 9,
     "metadata": {},
     "output_type": "execute_result"
    }
   ],
   "source": [
    "np.diag([1, 2, 3, 4, 5]) # Membuat array dengan diagonal 1, 2, 3, 4, 5"
   ]
  },
  {
   "cell_type": "markdown",
   "metadata": {},
   "source": [
    "Operasi matematis array"
   ]
  },
  {
   "cell_type": "code",
   "execution_count": 10,
   "metadata": {},
   "outputs": [
    {
     "name": "stdout",
     "output_type": "stream",
     "text": [
      "[-1.  0.  1.  2.  3.  4.  5.]\n"
     ]
    }
   ],
   "source": [
    "z = np.linspace(-1, 5, 7)\n",
    "print(z)"
   ]
  },
  {
   "cell_type": "code",
   "execution_count": 11,
   "metadata": {},
   "outputs": [
    {
     "data": {
      "text/plain": [
       "array([-2.,  0.,  2.,  4.,  6.,  8., 10.])"
      ]
     },
     "execution_count": 11,
     "metadata": {},
     "output_type": "execute_result"
    }
   ],
   "source": [
    "z*2 # Mengalikan semua elemen array dengan 2\n"
   ]
  },
  {
   "cell_type": "code",
   "execution_count": 12,
   "metadata": {},
   "outputs": [
    {
     "data": {
      "text/plain": [
       "array([-0.5,  0. ,  0.5,  1. ,  1.5,  2. ,  2.5])"
      ]
     },
     "execution_count": 12,
     "metadata": {},
     "output_type": "execute_result"
    }
   ],
   "source": [
    "z/2 # Membagi semua elemen array dengan 2"
   ]
  },
  {
   "cell_type": "code",
   "execution_count": 13,
   "metadata": {},
   "outputs": [
    {
     "data": {
      "text/plain": [
       "array([ 1.,  0.,  1.,  4.,  9., 16., 25.])"
      ]
     },
     "execution_count": 13,
     "metadata": {},
     "output_type": "execute_result"
    }
   ],
   "source": [
    "pow(z, 2) # Mengkuadratkan semua elemen array"
   ]
  },
  {
   "cell_type": "code",
   "execution_count": 14,
   "metadata": {},
   "outputs": [
    {
     "data": {
      "text/plain": [
       "array([ 6.,  7.,  8.,  9., 10., 11., 12.])"
      ]
     },
     "execution_count": 14,
     "metadata": {},
     "output_type": "execute_result"
    }
   ],
   "source": [
    "z+7 # Menambahkan semua elemen array dengan 7"
   ]
  },
  {
   "cell_type": "code",
   "execution_count": 15,
   "metadata": {},
   "outputs": [
    {
     "data": {
      "text/plain": [
       "array([-11., -10.,  -9.,  -8.,  -7.,  -6.,  -5.])"
      ]
     },
     "execution_count": 15,
     "metadata": {},
     "output_type": "execute_result"
    }
   ],
   "source": [
    "z-10 # Mengurangkan semua elemen array dengan 10"
   ]
  },
  {
   "cell_type": "code",
   "execution_count": 16,
   "metadata": {},
   "outputs": [
    {
     "data": {
      "text/plain": [
       "array([ 9., 16., 25., 36., 49., 64., 81.])"
      ]
     },
     "execution_count": 16,
     "metadata": {},
     "output_type": "execute_result"
    }
   ],
   "source": [
    "pow((z+4), 2) # Menambahkan semua elemen array dengan 4, kemudian mengkuadratkan semua elemen array"
   ]
  },
  {
   "cell_type": "code",
   "execution_count": 17,
   "metadata": {},
   "outputs": [
    {
     "data": {
      "text/plain": [
       "array([-0.84147098,  0.        ,  0.84147098,  0.90929743,  0.14112001,\n",
       "       -0.7568025 , -0.95892427])"
      ]
     },
     "execution_count": 17,
     "metadata": {},
     "output_type": "execute_result"
    }
   ],
   "source": [
    "np.sin(z) # Menghitung sin dari semua elemen array"
   ]
  },
  {
   "cell_type": "code",
   "execution_count": 18,
   "metadata": {},
   "outputs": [
    {
     "data": {
      "text/plain": [
       "array([  0.36787944,   1.        ,   2.71828183,   7.3890561 ,\n",
       "        20.08553692,  54.59815003, 148.4131591 ])"
      ]
     },
     "execution_count": 18,
     "metadata": {},
     "output_type": "execute_result"
    }
   ],
   "source": [
    "np.exp(z) # Menghitung eksponen dari semua elemen array"
   ]
  },
  {
   "cell_type": "code",
   "execution_count": 19,
   "metadata": {},
   "outputs": [
    {
     "name": "stdout",
     "output_type": "stream",
     "text": [
      "Nilai cos^2(x): [ 0.99999493 -0.99999873  1.         -0.99999873  0.99999493]\n",
      "Nilai sin(x): [-0.00159265 -0.99999968  0.          0.99999968  0.00159265]\n"
     ]
    }
   ],
   "source": [
    "# Membuat 2 array\n",
    "\n",
    "# Buat array untuk nilai x\n",
    "x = np.linspace(-3.14, 3.14, 5)\n",
    "\n",
    "# Hitung nilai cos^2(x)\n",
    "cos2x = np.cos(2*x)\n",
    "\n",
    "# Hitung nilai sin(x)\n",
    "sinx = np.sin(x)\n",
    "\n",
    "# Cetak array\n",
    "print(\"Nilai cos^2(x):\", cos2x)\n",
    "print(\"Nilai sin(x):\", sinx)"
   ]
  },
  {
   "cell_type": "code",
   "execution_count": 20,
   "metadata": {},
   "outputs": [
    {
     "name": "stdout",
     "output_type": "stream",
     "text": [
      "Hasil penjumlahan cos^2(x) dan sin(x): [ 9.98402274e-01 -1.99999841e+00  1.00000000e+00  9.51204295e-07\n",
      "  1.00158758e+00]\n"
     ]
    }
   ],
   "source": [
    "tambah = cos2x + sinx\n",
    "print(\"Hasil penjumlahan cos^2(x) dan sin(x):\", tambah)"
   ]
  },
  {
   "cell_type": "code",
   "execution_count": 21,
   "metadata": {},
   "outputs": [
    {
     "name": "stdout",
     "output_type": "stream",
     "text": [
      "Hasil pengurangan cos^2(x) dan sin(x): [ 1.00158758e+00  9.51204295e-07  1.00000000e+00 -1.99999841e+00\n",
      "  9.98402274e-01]\n"
     ]
    }
   ],
   "source": [
    "kurang = cos2x - sinx\n",
    "print(\"Hasil pengurangan cos^2(x) dan sin(x):\", kurang)"
   ]
  },
  {
   "cell_type": "code",
   "execution_count": 22,
   "metadata": {},
   "outputs": [
    {
     "name": "stdout",
     "output_type": "stream",
     "text": [
      "Hasil perkalian cos^2(x) dan sin(x): [-0.00159264  0.99999841  0.         -0.99999841  0.00159264]\n"
     ]
    }
   ],
   "source": [
    "kali = cos2x * sinx\n",
    "print(\"Hasil perkalian cos^2(x) dan sin(x):\", kali)"
   ]
  },
  {
   "cell_type": "code",
   "execution_count": 23,
   "metadata": {},
   "outputs": [
    {
     "name": "stdout",
     "output_type": "stream",
     "text": [
      "Hasil pembagian cos^2(x) dan sin(x): [-627.88000861    0.99999905           inf   -0.99999905  627.88000861]\n"
     ]
    },
    {
     "name": "stderr",
     "output_type": "stream",
     "text": [
      "C:\\Users\\asus6\\AppData\\Local\\Temp\\ipykernel_26076\\4040277493.py:1: RuntimeWarning: divide by zero encountered in divide\n",
      "  bagi = cos2x / sinx\n"
     ]
    }
   ],
   "source": [
    "bagi = cos2x / sinx\n",
    "print(\"Hasil pembagian cos^2(x) dan sin(x):\", bagi)"
   ]
  }
 ],
 "metadata": {
  "kernelspec": {
   "display_name": "base",
   "language": "python",
   "name": "python3"
  },
  "language_info": {
   "codemirror_mode": {
    "name": "ipython",
    "version": 3
   },
   "file_extension": ".py",
   "mimetype": "text/x-python",
   "name": "python",
   "nbconvert_exporter": "python",
   "pygments_lexer": "ipython3",
   "version": "3.11.5"
  }
 },
 "nbformat": 4,
 "nbformat_minor": 2
}
