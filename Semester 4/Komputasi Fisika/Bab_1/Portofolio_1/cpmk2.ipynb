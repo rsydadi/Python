{
 "cells": [
  {
   "cell_type": "markdown",
   "metadata": {},
   "source": [
    "Mahasiswwa dapat membedakan jenis bilangan: integer, float, dan kompleks, dan mengetahui cara untuk mengkonversi integer ke float dan sebaliknya"
   ]
  },
  {
   "cell_type": "markdown",
   "metadata": {},
   "source": [
    "Jenis Data"
   ]
  },
  {
   "cell_type": "markdown",
   "metadata": {},
   "source": [
    "Bilangan\n",
    "\n",
    "1. Integer: Bilangan bulat yang tidak memiliki bagian pecahan atau desimal yang berupa positif, negatif, atau nol.\n",
    "2. Floats: Jenis bilangan dalam pemrograman komputer yang digunakan untuk merepresentasikan angka dengan bagian pecahan atau desimal.\n",
    "3. Bilangan kompleks: Jenis bilangan yang terdiri dari dua bagian yaitu real dan imajiner."
   ]
  },
  {
   "cell_type": "code",
   "execution_count": 3,
   "metadata": {},
   "outputs": [],
   "source": [
    "a =  3 # Integer\n",
    "b = 3.14 # Float\n",
    "c = 4 + 6j # Complex"
   ]
  },
  {
   "cell_type": "code",
   "execution_count": 7,
   "metadata": {},
   "outputs": [
    {
     "name": "stdout",
     "output_type": "stream",
     "text": [
      "3.0\n",
      "3\n"
     ]
    }
   ],
   "source": [
    "# Konversi tipe data\n",
    "print(float(a)) # Output: 3.0\n",
    "print(int(b)) # Output: 3"
   ]
  },
  {
   "cell_type": "code",
   "execution_count": 6,
   "metadata": {},
   "outputs": [
    {
     "name": "stdout",
     "output_type": "stream",
     "text": [
      "3.0\n",
      "4.0\n",
      "6.0\n",
      "8.0\n"
     ]
    }
   ],
   "source": [
    "# Kommpleks\n",
    "K1 = 3 + 4j\n",
    "K2 = 6 + 8j\n",
    "print(K1.real) # Output: 3.0\n",
    "print(K1.imag) # Output: 4.0\n",
    "print(K2.real) # Output: 6.0\n",
    "print(K2.imag) # Output: 8.0"
   ]
  }
 ],
 "metadata": {
  "kernelspec": {
   "display_name": "base",
   "language": "python",
   "name": "python3"
  },
  "language_info": {
   "codemirror_mode": {
    "name": "ipython",
    "version": 3
   },
   "file_extension": ".py",
   "mimetype": "text/x-python",
   "name": "python",
   "nbconvert_exporter": "python",
   "pygments_lexer": "ipython3",
   "version": "3.11.5"
  }
 },
 "nbformat": 4,
 "nbformat_minor": 2
}
