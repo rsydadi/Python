{
 "cells": [
  {
   "cell_type": "markdown",
   "metadata": {},
   "source": [
    "Mahasiswa dapat membuat list, mengindeks, dan mengoperasikannya"
   ]
  },
  {
   "cell_type": "markdown",
   "metadata": {},
   "source": [
    "List adalah struktur data dalam Python yang merupakan rangkaian elemen terurut yang dapat dipindah atau diubah. Item dapat berup bilangan atau string."
   ]
  },
  {
   "cell_type": "code",
   "execution_count": 59,
   "metadata": {},
   "outputs": [
    {
     "name": "stdout",
     "output_type": "stream",
     "text": [
      "['Jonathan', 'Joseph', 'Jotaro', 'Josuke', 'Giorno', 'Jolyne', 'Johnny']\n",
      "[2, 3, 5, 7, 11, 13, 17]\n"
     ]
    }
   ],
   "source": [
    "# Contoh list karakter Jojo's Bizarre Adventure dan bilangan primer\n",
    "jojo = ['Jonathan', 'Joseph', 'Jotaro', 'Josuke', 'Giorno', 'Jolyne', 'Johnny']\n",
    "primer = [2, 3, 5, 7, 11, 13, 17]\n",
    "print(jojo)\n",
    "print(primer)"
   ]
  },
  {
   "cell_type": "code",
   "execution_count": 60,
   "metadata": {},
   "outputs": [
    {
     "name": "stdout",
     "output_type": "stream",
     "text": [
      "Jotaro\n",
      "7\n",
      "Tokoh utama Jojo part 5 adalah Giorno\n"
     ]
    }
   ],
   "source": [
    "# Indeks list\n",
    "print(jojo[2]) # Output: Jotaro\n",
    "print(primer[3]) # Output: 7\n",
    "print('Tokoh utama Jojo part ' +str(primer[2]) + ' adalah ' +jojo[4]) # Output: Tokoh utama Jojo part 5 adalah Giorno"
   ]
  },
  {
   "cell_type": "markdown",
   "metadata": {},
   "source": [
    "Operasi dan manipulasi list\n",
    "1. Menambahkan item: .append(), .extend(), .insert()\n",
    "2. Menghapus item: .remove(), .pop()\n",
    "3. Mengganti item\n",
    "4. Mengiris: [mulai:akhir]\n",
    "5. Iterasi, pengurutan, pembalikan"
   ]
  },
  {
   "cell_type": "code",
   "execution_count": 70,
   "metadata": {},
   "outputs": [
    {
     "name": "stdout",
     "output_type": "stream",
     "text": [
      "[-1, 1, 3, 5, 7, 9, 11, 13, 15, 17]\n"
     ]
    }
   ],
   "source": [
    "ganjil = [1, 3, 5, 7, 9]\n",
    "\n",
    "# Menambahkan elemen ke list\n",
    "ganjil.append(11)\n",
    "ganjil.extend([13, 15, 17])\n",
    "ganjil.insert(0, -1)\n",
    "print(ganjil)"
   ]
  },
  {
   "cell_type": "code",
   "execution_count": 71,
   "metadata": {},
   "outputs": [
    {
     "name": "stdout",
     "output_type": "stream",
     "text": [
      "[1, 5, 7, 9, 11, 13, 15, 17]\n"
     ]
    }
   ],
   "source": [
    "# Menghapus elemen dari list\n",
    "ganjil.remove(3)\n",
    "ganjil.pop(0)\n",
    "print(ganjil)"
   ]
  },
  {
   "cell_type": "code",
   "execution_count": 72,
   "metadata": {},
   "outputs": [
    {
     "name": "stdout",
     "output_type": "stream",
     "text": [
      "[1, 3, 5, 9, 11, 13, 15, 17]\n"
     ]
    }
   ],
   "source": [
    "# Mengganti\n",
    "ganjil[0] = 1\n",
    "ganjil[1:3] = [3, 5]\n",
    "print(ganjil)"
   ]
  },
  {
   "cell_type": "code",
   "execution_count": 73,
   "metadata": {},
   "outputs": [
    {
     "name": "stdout",
     "output_type": "stream",
     "text": [
      "8\n"
     ]
    }
   ],
   "source": [
    "# Menghitung panjang list\n",
    "print(len(ganjil))"
   ]
  },
  {
   "cell_type": "code",
   "execution_count": 78,
   "metadata": {},
   "outputs": [
    {
     "name": "stdout",
     "output_type": "stream",
     "text": [
      "17\n",
      "15\n",
      "13\n",
      "11\n",
      "9\n",
      "5\n",
      "3\n",
      "1\n"
     ]
    }
   ],
   "source": [
    "# Iterasi\n",
    "for angka in ganjil:\n",
    "    print(angka)"
   ]
  },
  {
   "cell_type": "code",
   "execution_count": 79,
   "metadata": {},
   "outputs": [
    {
     "name": "stdout",
     "output_type": "stream",
     "text": [
      "Index ke-0 adalah 17\n",
      "Index ke-1 adalah 15\n",
      "Index ke-2 adalah 13\n",
      "Index ke-3 adalah 11\n",
      "Index ke-4 adalah 9\n",
      "Index ke-5 adalah 5\n",
      "Index ke-6 adalah 3\n",
      "Index ke-7 adalah 1\n"
     ]
    }
   ],
   "source": [
    "# Iterasi enumerate\n",
    "for i, angka in enumerate(ganjil):\n",
    "    print('Index ke-' +str(i) + ' adalah ' +str(angka))"
   ]
  },
  {
   "cell_type": "code",
   "execution_count": 74,
   "metadata": {},
   "outputs": [
    {
     "name": "stdout",
     "output_type": "stream",
     "text": [
      "[1, 3, 5, 9, 11, 13, 15, 17]\n",
      "[17, 15, 13, 11, 9, 5, 3, 1]\n"
     ]
    }
   ],
   "source": [
    "# Mengurutkan (ascending)\n",
    "ganjil.sort()\n",
    "print(ganjil)\n",
    "\n",
    "# Membalik urutan (descending)\n",
    "ganjil.reverse()\n",
    "print(ganjil)"
   ]
  }
 ],
 "metadata": {
  "kernelspec": {
   "display_name": "base",
   "language": "python",
   "name": "python3"
  },
  "language_info": {
   "codemirror_mode": {
    "name": "ipython",
    "version": 3
   },
   "file_extension": ".py",
   "mimetype": "text/x-python",
   "name": "python",
   "nbconvert_exporter": "python",
   "pygments_lexer": "ipython3",
   "version": "3.11.5"
  }
 },
 "nbformat": 4,
 "nbformat_minor": 2
}
