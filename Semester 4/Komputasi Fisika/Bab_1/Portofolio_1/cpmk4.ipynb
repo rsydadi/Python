{
 "cells": [
  {
   "cell_type": "markdown",
   "metadata": {},
   "source": [
    "Mahasiswa dapat membuat list, mengindeks, dan mengoperasikannya"
   ]
  },
  {
   "cell_type": "markdown",
   "metadata": {},
   "source": [
    "List adalah struktur data dalam Python yang merupakan rangkaian elemen terurut yang dapat dipindah atau diubah. Item dapat berup bilangan atau string."
   ]
  },
  {
   "cell_type": "code",
   "execution_count": 19,
   "metadata": {},
   "outputs": [
    {
     "name": "stdout",
     "output_type": "stream",
     "text": [
      "['Jonathan', 'Joseph', 'Jotaro', 'Josuke', 'Giorno', 'Jolyne', 'Johnny']\n",
      "[2, 3, 5, 7, 11, 13, 17]\n"
     ]
    }
   ],
   "source": [
    "# Contoh list karakter Jojo's Bizarre Adventure dan bilangan primer\n",
    "jojo = ['Jonathan', 'Joseph', 'Jotaro', 'Josuke', 'Giorno', 'Jolyne', 'Johnny']\n",
    "primer = [2, 3, 5, 7, 11, 13, 17]\n",
    "print(jojo)\n",
    "print(primer)"
   ]
  },
  {
   "cell_type": "code",
   "execution_count": 22,
   "metadata": {},
   "outputs": [
    {
     "name": "stdout",
     "output_type": "stream",
     "text": [
      "Jotaro\n",
      "7\n",
      "Tokoh utama Jojo part 5 adalah Giorno\n"
     ]
    }
   ],
   "source": [
    "# Indeks list\n",
    "print(jojo[2]) # Output: Jotaro\n",
    "print(primer[3]) # Output: 7\n",
    "print('Tokoh utama Jojo part ' +str(primer[2]) + ' adalah ' +jojo[4]) # Output: Tokoh utama Jojo part 5 adalah Giorno"
   ]
  },
  {
   "cell_type": "markdown",
   "metadata": {},
   "source": [
    "Operasi dan manipulasi list\n",
    "1. Menambahkan item: .append(), .extend(), .insert()\n",
    "2. Menghapus item: .remove(), .pop()\n",
    "3. Mengganti item\n",
    "4. Mengiris: [mulai:akhir]\n",
    "5. Iterasi, pengurutan, pembalikan"
   ]
  },
  {
   "cell_type": "code",
   "execution_count": 23,
   "metadata": {},
   "outputs": [],
   "source": [
    "# Menambah\n",
    "jojo.append('Josuke') # Menambah karakter Josuke"
   ]
  }
 ],
 "metadata": {
  "kernelspec": {
   "display_name": "base",
   "language": "python",
   "name": "python3"
  },
  "language_info": {
   "codemirror_mode": {
    "name": "ipython",
    "version": 3
   },
   "file_extension": ".py",
   "mimetype": "text/x-python",
   "name": "python",
   "nbconvert_exporter": "python",
   "pygments_lexer": "ipython3",
   "version": "3.11.5"
  }
 },
 "nbformat": 4,
 "nbformat_minor": 2
}
