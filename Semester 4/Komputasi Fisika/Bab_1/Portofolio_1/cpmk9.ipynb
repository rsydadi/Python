{
 "cells": [
  {
   "cell_type": "markdown",
   "metadata": {},
   "source": [
    "Mahasiswa dapat menggunakan if, if-else, dan if-elif-else dalam menyelesaikan masalah"
   ]
  },
  {
   "cell_type": "markdown",
   "metadata": {},
   "source": [
    "Pernyataan if, elif, dan else"
   ]
  },
  {
   "cell_type": "markdown",
   "metadata": {},
   "source": [
    "Pernyataan bersyarat memungkinkan program komputer untuk mengambil tindakan berbeda berdasarkan apakah suatu kondisi, atau serangkaian kondisi benar atau salah. Dengan cara ini, programmer dapat mengontrol aliran suatu program. Dalam bahasa pemrograman Python, pernyataan if, elif, dan else digunakan untuk mendefinisikan syarat-syarat tersebut. Sebagai contoh, dalam sebuah program untuk menentukan sifat solusi dari persamaan kuadratik $ax^2 + bx + c = 0$ untuk nilai koefisien $a$, $ b$, dan $c$ tertentu, kita dapat menggunakan pernyataan if-elif-else. Solusi persamaan kuadratik tersebut dapat dikategorikan sebagai real jika diskriminan $D = b^2 - 4ac$ memenuhi $ D \\geq 0$, sebagai imajiner jika $ b = 0 $ dan $ D < 0 $, dan sebagai kompleks jika $b \\neq 0$ dan $ D < 0 $. Dengan menggunakan pernyataan if, elif, dan else, kita dapat mengimplementasikan logika tersebut dalam program dengan jelas dan terstruktur."
   ]
  },
  {
   "cell_type": "code",
   "execution_count": 1,
   "metadata": {},
   "outputs": [
    {
     "name": "stdout",
     "output_type": "stream",
     "text": [
      "Grade Anda: E\n"
     ]
    }
   ],
   "source": [
    "# Program untuk menentukan grade berdasarkan nilai ujian\n",
    "\n",
    "# Mendapatkan input nilai ujian dari pengguna\n",
    "nilai = float(input(\"Masukkan nilai ujian: \"))\n",
    "\n",
    "# Menentukan grade berdasarkan nilai\n",
    "if nilai >= 90:\n",
    "    grade = 'A'\n",
    "elif nilai >= 80:\n",
    "    grade = 'B'\n",
    "elif nilai >= 70:\n",
    "    grade = 'C'\n",
    "elif nilai >= 60:\n",
    "    grade = 'D'\n",
    "else:\n",
    "    grade = 'E'\n",
    "\n",
    "# Menampilkan grade\n",
    "print(\"Grade Anda:\", grade)"
   ]
  }
 ],
 "metadata": {
  "kernelspec": {
   "display_name": "base",
   "language": "python",
   "name": "python3"
  },
  "language_info": {
   "codemirror_mode": {
    "name": "ipython",
    "version": 3
   },
   "file_extension": ".py",
   "mimetype": "text/x-python",
   "name": "python",
   "nbconvert_exporter": "python",
   "pygments_lexer": "ipython3",
   "version": "3.11.5"
  }
 },
 "nbformat": 4,
 "nbformat_minor": 2
}
