{
 "cells": [
  {
   "cell_type": "markdown",
   "metadata": {},
   "source": [
    "Mahasiswa dapat menginput dari file dan keyboard, dan mengoutpput ke file dan layar"
   ]
  },
  {
   "cell_type": "markdown",
   "metadata": {},
   "source": [
    "Input Keyboard"
   ]
  },
  {
   "cell_type": "code",
   "execution_count": 1,
   "metadata": {},
   "outputs": [],
   "source": [
    "# Contoh input dari user\n",
    "variabel = input('Masukkan nama Anda: ')"
   ]
  },
  {
   "cell_type": "code",
   "execution_count": 15,
   "metadata": {},
   "outputs": [
    {
     "name": "stdout",
     "output_type": "stream",
     "text": [
      "Biaya belanja Anda adalah Rp34500.00\n",
      "Sisa saldo Anda adalah Rp65500.00\n"
     ]
    }
   ],
   "source": [
    "# Contoh penggunaan input dalam menghitung biaya\n",
    "saldo = 100000\n",
    "\n",
    "belanja = int(input('Masukkan biaya belanja Anda: '))\n",
    "\n",
    "total = saldo - belanja\n",
    "print('Biaya belanja Anda adalah Rp{0:0.2f}'.format(belanja)) # Contoh output = Biaya belanja Anda adalah Rp10000.00\n",
    "print('Sisa saldo Anda adalah Rp{0:0.2f}'.format(total)) # Contoh output = Sisa saldo Anda adalah Rp90000.00"
   ]
  },
  {
   "cell_type": "code",
   "execution_count": 43,
   "metadata": {},
   "outputs": [
    {
     "name": "stdout",
     "output_type": "stream",
     "text": [
      "[[  0.     1.     2.     3.     4.     5.     6.     7.     8.     9.\n",
      "   10.    11.    12.  ]\n",
      " [  0.     0.5    1.     1.5    2.     2.5    3.     3.5    4.     4.5\n",
      "    5.     5.5    6.  ]\n",
      " [180.   182.   178.   165.   160.   148.   136.   120.    99.    83.\n",
      "   55.    35.     5.  ]\n",
      " [  3.5    4.5    4.     5.5    2.5    3.     2.5    3.     4.     2.5\n",
      "    3.6    1.75   0.75]]\n"
     ]
    },
    {
     "data": {
      "text/plain": [
       "array([[  0.  ,   1.  ,   2.  ,   3.  ,   4.  ,   5.  ,   6.  ,   7.  ,\n",
       "          8.  ,   9.  ,  10.  ,  11.  ,  12.  ],\n",
       "       [  0.  ,   0.5 ,   1.  ,   1.5 ,   2.  ,   2.5 ,   3.  ,   3.5 ,\n",
       "          4.  ,   4.5 ,   5.  ,   5.5 ,   6.  ],\n",
       "       [180.  , 182.  , 178.  , 165.  , 160.  , 148.  , 136.  , 120.  ,\n",
       "         99.  ,  83.  ,  55.  ,  35.  ,   5.  ],\n",
       "       [  3.5 ,   4.5 ,   4.  ,   5.5 ,   2.5 ,   3.  ,   2.5 ,   3.  ,\n",
       "          4.  ,   2.5 ,   3.6 ,   1.75,   0.75]])"
      ]
     },
     "execution_count": 43,
     "metadata": {},
     "output_type": "execute_result"
    }
   ],
   "source": [
    "# Input file\n",
    "import numpy as np\n",
    "data = np.loadtxt('data_eksperimen.txt', skiprows=5, unpack=True)\n",
    "print(data)\n",
    "\n",
    "np.array(data)"
   ]
  },
  {
   "cell_type": "code",
   "execution_count": 57,
   "metadata": {},
   "outputs": [
    {
     "name": "stdout",
     "output_type": "stream",
     "text": [
      "<zip object at 0x000001603A011FC0>\n",
      "[[ 1  6 11]\n",
      " [ 2  7 12]\n",
      " [ 3  8 13]\n",
      " [ 4  9 14]\n",
      " [ 5 10 15]]\n",
      "15\n"
     ]
    }
   ],
   "source": [
    "# Pembuatan file\n",
    "a = np.array([1, 2, 3, 4, 5])\n",
    "b = np.array([6, 7, 8, 9, 10])\n",
    "c = np.array([11, 12, 13, 14, 15])\n",
    "d = zip(a, b, c)\n",
    "print(d)\n",
    "\n",
    "e = np.array(list(d))\n",
    "print(e)\n",
    "\n",
    "# Mengiris array\n",
    "print(e[4, 2]) # Output = 15"
   ]
  }
 ],
 "metadata": {
  "kernelspec": {
   "display_name": "base",
   "language": "python",
   "name": "python3"
  },
  "language_info": {
   "codemirror_mode": {
    "name": "ipython",
    "version": 3
   },
   "file_extension": ".py",
   "mimetype": "text/x-python",
   "name": "python",
   "nbconvert_exporter": "python",
   "pygments_lexer": "ipython3",
   "version": "3.11.5"
  }
 },
 "nbformat": 4,
 "nbformat_minor": 2
}
