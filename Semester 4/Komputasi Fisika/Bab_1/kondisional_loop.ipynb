{
 "cells": [
  {
   "cell_type": "code",
   "execution_count": 3,
   "metadata": {},
   "outputs": [
    {
     "name": "stdout",
     "output_type": "stream",
     "text": [
      "contoh program if, elif dan else dalam menyelesaikan persamaan kuadrat\n",
      "ax^2 + bx + c\n",
      "Solusinya adalah bilangan kompleks\n",
      "selesai!\n"
     ]
    }
   ],
   "source": [
    "print('contoh program if, elif dan else dalam menyelesaikan persamaan kuadrat') \n",
    "print('ax^2 + bx + c')  \n",
    "# input koefisien a, b dan c \n",
    "a = float(input(\"Masukkan koefisien a! \")) \n",
    "b = float(input(\"Masukkan koefisien b! \")) \n",
    "c = float(input(\"Masukkan koefisien c! \")) \n",
    "# menghitung diskriminan \n",
    "d = pow(b, 2) - 4.0*a*c \n",
    "# kondisional \n",
    "if d >= 0.0: \n",
    "    print('Solusinya adalah bilangan real')    \n",
    "    # block 1 \n",
    "elif b == 0.0: \n",
    "    print(\"Solusinya adalah bilangan imajiner\") # block 2 \n",
    "else: \n",
    "    print(\"Solusinya adalah bilangan kompleks\") # block 3 \n",
    "print(\"selesai!\") "
   ]
  },
  {
   "cell_type": "code",
   "execution_count": 2,
   "metadata": {},
   "outputs": [
    {
     "name": "stdout",
     "output_type": "stream",
     "text": [
      "Nilai absolutnya adalah 3.2\n"
     ]
    }
   ],
   "source": [
    "a = float(input('Sebuah bilangan '))\n",
    "if a < 0:\n",
    "    a = -a\n",
    "#print('Nilai absolutnya adalah'.format(a))\n",
    "print(f'Nilai absolutnya adalah {a}')"
   ]
  },
  {
   "cell_type": "code",
   "execution_count": 2,
   "metadata": {},
   "outputs": [
    {
     "name": "stdout",
     "output_type": "stream",
     "text": [
      "ANDA NORMAL\n"
     ]
    }
   ],
   "source": [
    "nama = input('Namamu siapa?')\n",
    "if nama == 'Fauzi' and 'fauzi':\n",
    "    print('GAY ANJING!')\n",
    "else:\n",
    "    print('ANDA NORMAL')"
   ]
  },
  {
   "cell_type": "code",
   "execution_count": 5,
   "metadata": {},
   "outputs": [
    {
     "name": "stdout",
     "output_type": "stream",
     "text": [
      "contoh program if-else dalam menentukan jenis bilangan\n"
     ]
    }
   ],
   "source": [
    "print('contoh program if-else dalam menentukan jenis bilangan')  \n",
    "# meminta input \n",
    "a = int(input(\"Silakan masukkan bilangan integer! \")) \n",
    "# cek syarat \n",
    "if a % 2 == 0: \n",
    "    print(f\"{a:0d} adalah bilangan genap\") # block 1 \n",
    "else:\n",
    "    print(f\"{a:0d} adalah bilangan ganjil\") # block 2"
   ]
  },
  {
   "cell_type": "code",
   "execution_count": 1,
   "metadata": {},
   "outputs": [],
   "source": [
    "a = eval(input('masukkan sebuah bilangan: '))\n",
    "\n",
    "if a < 0:\n",
    "    a= -a\n",
    "print(f'Nilai absolutnya adalah {a}')"
   ]
  },
  {
   "cell_type": "code",
   "execution_count": null,
   "metadata": {},
   "outputs": [],
   "source": [
    "a = 5\n",
    "b = 10\n",
    "a != 5"
   ]
  },
  {
   "cell_type": "markdown",
   "metadata": {},
   "source": [
    "LOOP"
   ]
  },
  {
   "cell_type": "code",
   "execution_count": 14,
   "metadata": {},
   "outputs": [
    {
     "name": "stdout",
     "output_type": "stream",
     "text": [
      "Perulangan ke 10000\n",
      "---------------\n",
      "Perulangan ke 25000\n",
      "---------------\n",
      "Perulangan ke 40000\n",
      "---------------\n",
      "Perulangan ke 55000\n",
      "---------------\n",
      "Perulangan ke 70000\n",
      "---------------\n",
      "Perulangan ke 85000\n",
      "---------------\n",
      "Selesai\n"
     ]
    }
   ],
   "source": [
    "for i in range (10000, 100000, 15000): # (start, stop, step)\n",
    "    print(f'Perulangan ke {i:n}')\n",
    "    print('-'*15)\n",
    "print('Selesai')"
   ]
  },
  {
   "cell_type": "code",
   "execution_count": 15,
   "metadata": {},
   "outputs": [
    {
     "name": "stdout",
     "output_type": "stream",
     "text": [
      "1 3 5 7 9 11 13 15 17 19 21 23 25 27 29 31 33 35 37 39 41 43 45 47 49 51 53 55 57 59 61 63 65 67 69 71 73 75 77 79 81 83 85 87 89 91 93 95 97 99 \n",
      "2500\n"
     ]
    }
   ],
   "source": [
    "s = 0\n",
    "for i in range(1, 100, 2):\n",
    "    print(i, end=' ')\n",
    "    s += i\n",
    "print(f\"\\n{s}\")"
   ]
  },
  {
   "cell_type": "code",
   "execution_count": 16,
   "metadata": {},
   "outputs": [
    {
     "name": "stdout",
     "output_type": "stream",
     "text": [
      "Semester ini mengambil matkul fisika\n",
      "Alhamdulillah lulus! Next!\n",
      "\n",
      "\n",
      "Semester ini mengambil matkul kimia\n",
      "Alhamdulillah lulus! Next!\n",
      "\n",
      "\n",
      "Semester ini mengambil matkul biologi\n",
      "Alhamdulillah lulus! Next!\n",
      "\n",
      "\n",
      "Semester ini mengambil matkul matematika\n",
      "Alhamdulillah lulus! Next!\n",
      "\n",
      "\n",
      "Semester ini mengambil matkul ekonomi\n",
      "Alhamdulillah lulus! Next!\n",
      "\n",
      "\n"
     ]
    }
   ],
   "source": [
    "# contoh loop pada list\n",
    "matkul = ['fisika', 'kimia', 'biologi', 'matematika', 'ekonomi']\n",
    "\n",
    "for item in matkul:\n",
    "    print('Semester ini mengambil matkul ' + item)\n",
    "    print('Alhamdulillah lulus! Next!')\n",
    "    print('\\n')"
   ]
  },
  {
   "cell_type": "code",
   "execution_count": 17,
   "metadata": {},
   "outputs": [
    {
     "name": "stdout",
     "output_type": "stream",
     "text": [
      "1 3 5 7 9 11 13 15 17 19 21 23 25 27 29 31 33 35 37 39 41 43 45 47 49 51 53 55 57 59 61 63 65 67 69 71 73 75 77 79 81 83 85 87 89 91 93 95 97 99 \n",
      "2500\n"
     ]
    }
   ],
   "source": [
    "s = 0\n",
    "for i in range(1, 100, 2):\n",
    "    print(i, end=' ')\n",
    "    s += i\n",
    "print(f\"\\n{s}\")"
   ]
  },
  {
   "cell_type": "code",
   "execution_count": 18,
   "metadata": {},
   "outputs": [
    {
     "name": "stdout",
     "output_type": "stream",
     "text": [
      "Jika\n",
      "\n",
      "kamu\n",
      "\n",
      "tidak\n",
      "\n",
      "sanggup\n",
      "\n",
      "menahan\n",
      "\n",
      "lelahnya\n",
      "\n",
      "belajar,\n",
      "\n",
      "maka\n",
      "\n",
      "kamu\n",
      "\n",
      "harus\n",
      "\n",
      "sanggup\n",
      "\n",
      "menahan\n",
      "\n",
      "perihnya\n",
      "\n",
      "kebodohan"
     ]
    }
   ],
   "source": [
    "pesan = 'Jika kamu tidak sanggup menahan lelahnya belajar, maka kamu harus sanggup menahan perihnya kebodohan'\n",
    "\n",
    "for huruf in pesan:\n",
    "    if huruf == ' ':\n",
    "        print('\\n')\n",
    "    else:\n",
    "        print(huruf, end='')"
   ]
  },
  {
   "cell_type": "code",
   "execution_count": 19,
   "metadata": {},
   "outputs": [
    {
     "name": "stdout",
     "output_type": "stream",
     "text": [
      "1, 1, 0, 1, -1, 2, -3, 5, -8, 13, -21, 34, -55, 89, -144, "
     ]
    }
   ],
   "source": [
    "x, y = 1, 1\n",
    "while x < 100:\n",
    "    print(x, end=', ')\n",
    "    x, y = y, x-y"
   ]
  },
  {
   "cell_type": "markdown",
   "metadata": {},
   "source": [
    "Buatlah sebuah program yang menghitung faktorial dari input bilangan integer positif yang \n",
    "diberikan pengguna. Ingat bahwa fungsi faktorial diberikan oleh: \n",
    "�\n",
    "�! = 𝑥(𝑥 −1)(𝑥−2)…(2)(1) \n",
    "sehingga 1! = 1; 2! = 2; 3! = 6;4! = 24,… \n",
    "a. Buat fungsi faktorial dengan loop while \n",
    "b. Buat fungsi faktorial dengan loop for \n",
    "Cek program Anda untuk memastikan jawabannya benar untuk 1, 2, 3, 4, 5, dan seterusnya, \n",
    "tapi terutama untuk 5 bilangan bulat pertama. "
   ]
  },
  {
   "cell_type": "code",
   "execution_count": null,
   "metadata": {},
   "outputs": [],
   "source": [
    "# Fungsi faktorial menggunakan while\n",
    "x, y = 0, 1\n",
    "while x < 10:\n",
    "    print(x, end=', ')\n",
    "    "
   ]
  },
  {
   "cell_type": "code",
   "execution_count": 1,
   "metadata": {},
   "outputs": [
    {
     "name": "stdout",
     "output_type": "stream",
     "text": [
      "120\n"
     ]
    }
   ],
   "source": [
    "def fak(n):\n",
    "    if n< 0:\n",
    "        print('Bilangan jangan negatif')\n",
    "    nilai = 1\n",
    "    i = 1\n",
    "    while i <= n:\n",
    "        nilai *= i\n",
    "        i += 1\n",
    "    return nilai\n",
    "print(fak(5))"
   ]
  },
  {
   "cell_type": "code",
   "execution_count": 6,
   "metadata": {},
   "outputs": [
    {
     "name": "stdout",
     "output_type": "stream",
     "text": [
      "6\n"
     ]
    }
   ],
   "source": [
    "# Fungsi faktorial menggunakan for\n",
    "def faktorial(n):\n",
    "    result = 1\n",
    "    for i in range(1, n+1):\n",
    "        result *= i\n",
    "    return result\n",
    "hasil = faktorial(int(input('Masukkan angka untuk dhitungi faktorialnya: ')))\n",
    "print(hasil)"
   ]
  },
  {
   "cell_type": "code",
   "execution_count": 33,
   "metadata": {},
   "outputs": [
    {
     "name": "stdout",
     "output_type": "stream",
     "text": [
      "Luas nya adalah  6084\n"
     ]
    }
   ],
   "source": [
    "def hitung_luas_persegi(sisi):\n",
    "    luas = sisi * sisi\n",
    "    return luas\n",
    "hasil = hitung_luas_persegi(int(input('Masukkan panjang sisi persegi ')))\n",
    "print('Luas nya adalah ', hasil)"
   ]
  },
  {
   "cell_type": "code",
   "execution_count": null,
   "metadata": {},
   "outputs": [],
   "source": []
  }
 ],
 "metadata": {
  "kernelspec": {
   "display_name": "base",
   "language": "python",
   "name": "python3"
  },
  "language_info": {
   "codemirror_mode": {
    "name": "ipython",
    "version": 3
   },
   "file_extension": ".py",
   "mimetype": "text/x-python",
   "name": "python",
   "nbconvert_exporter": "python",
   "pygments_lexer": "ipython3",
   "version": "3.11.5"
  }
 },
 "nbformat": 4,
 "nbformat_minor": 2
}
