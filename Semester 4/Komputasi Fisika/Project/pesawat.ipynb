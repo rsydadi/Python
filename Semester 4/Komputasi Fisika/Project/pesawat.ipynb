{
 "cells": [
  {
   "cell_type": "code",
   "execution_count": 1,
   "metadata": {},
   "outputs": [
    {
     "name": "stdout",
     "output_type": "stream",
     "text": [
      "Aircraft Performance Calculator\n",
      "\n",
      "Calculating performance metrics at altitude:  15000.0 m\n",
      "\n",
      "Stall Speed:  24.5 m/s\n",
      "Maximum Rate of Climb:  1399.46 m/s\n",
      "Maximum Range:  41.58 m\n",
      "Maximum Endurance:  56.38 s\n"
     ]
    }
   ],
   "source": [
    "import math  # Mengimpor modul matematika untuk perhitungan matematis\n",
    "\n",
    "class AircraftPerformance:\n",
    "    def __init__(self, isa_deviation=0):\n",
    "        self.isa_deviation = isa_deviation  # Menyimpan deviasi ISA (International Standard Atmosphere) sebagai properti objek\n",
    "\n",
    "    def air_density(self, altitude):\n",
    "        TO = 288.15  # Suhu standar pada permukaan laut dalam Kelvin (K)\n",
    "        R = 287.05   # Konstanta gas untuk udara dalam J/(kg·K)\n",
    "        L = 0.0065   # Laju penurunan suhu dengan ketinggian dalam K/m\n",
    "\n",
    "        T = TO - L * altitude  # Menghitung suhu pada ketinggian tertentu dalam Kelvin (K)\n",
    "\n",
    "        rho = 1.225 * (T / TO) ** (5.2561)  # Menghitung massa jenis udara pada ketinggian tertentu dalam kg/m³\n",
    "\n",
    "        return rho + self.isa_deviation  # Mengembalikan massa jenis udara yang sudah dikoreksi dengan deviasi ISA\n",
    "\n",
    "    def stall_speed(self, altitude):\n",
    "        rho = self.air_density(altitude)  # Mendapatkan massa jenis udara pada ketinggian tertentu\n",
    "\n",
    "        # Menghitung kecepatan stall dalam m/s menggunakan formula yang relevan\n",
    "        stall_speed = math.sqrt((2 * self.weight) / (rho * self.S * self.cl_max))\n",
    "        return stall_speed\n",
    "\n",
    "    def max_rate_of_climb(self, altitude):\n",
    "        rho = self.air_density(altitude)  # Mendapatkan massa jenis udara pada ketinggian tertentu\n",
    "\n",
    "        # Menghitung laju pendakian maksimum dalam m/s menggunakan formula yang relevan\n",
    "        max_rate_of_climb = (2 * self.P_max_sea_level) / (rho * self.S * math.sqrt(self.C_D0 / self.cl_max))\n",
    "        return max_rate_of_climb\n",
    "\n",
    "    def max_range(self, altitude):\n",
    "        rho = self.air_density(altitude)  # Mendapatkan massa jenis udara pada ketinggian tertentu\n",
    "\n",
    "        # Menghitung jarak maksimum dalam meter menggunakan formula yang relevan\n",
    "        max_range = (2 / math.sqrt(self.C_D0 * self.K)) * math.sqrt(self.cl_max / rho) * (self.P_max_sea_level / self.weight)\n",
    "        return max_range\n",
    "\n",
    "    def max_endurance(self, altitude):\n",
    "        rho = self.air_density(altitude)  # Mendapatkan massa jenis udara pada ketinggian tertentu\n",
    "\n",
    "        # Menghitung daya tahan maksimum dalam detik menggunakan formula yang relevan\n",
    "        max_endurance = (2 * math.sqrt(self.cl_max / self.C_D0)) * math.sqrt(rho / self.K) * math.sqrt(self.weight / self.P_max_sea_level)\n",
    "        return max_endurance\n",
    "    \n",
    "    def user_interface(self):\n",
    "        print(\"Aircraft Performance Calculator\")  # Menampilkan judul kalkulator\n",
    "\n",
    "        altitude = float(input(\"Enter the altitude (m): \"))  # Meminta pengguna memasukkan ketinggian dalam meter\n",
    "\n",
    "        print(\"\\nCalculating performance metrics at altitude: \", altitude, \"m\\n\")\n",
    "        print(\"Stall Speed: \", round(self.stall_speed(altitude), 2), \"m/s\")  # Menampilkan kecepatan stall dalam m/s\n",
    "        print(\"Maximum Rate of Climb: \", round(self.max_rate_of_climb(altitude), 2), \"m/s\")  # Menampilkan laju pendakian maksimum dalam m/s\n",
    "        print(\"Maximum Range: \", round(self.max_range(altitude), 2), \"m\")  # Menampilkan jarak maksimum dalam meter\n",
    "        print(\"Maximum Endurance: \", round(self.max_endurance(altitude), 2), \"s\")  # Menampilkan daya tahan maksimum dalam detik\n",
    "\n",
    "class_data = {\n",
    "    'weight': 1019,  # Berat pesawat dalam kg\n",
    "    'S': 16.2,  # Luas sayap pesawat dalam m²\n",
    "    'cl_max': 1.5,  # Koefisien lift maksimum\n",
    "    'P_max_sea_level': 224,  # Daya maksimum mesin pada permukaan laut dalam kW\n",
    "    'C_D0': 0.03,  # Koefisien drag nol-lift\n",
    "    'K': 0.04  # Faktor efisiensi induksi\n",
    "}\n",
    "\n",
    "if __name__ == \"__main__\":\n",
    "    aircraft = AircraftPerformance()  # Membuat objek dari kelas AircraftPerformance\n",
    "    \n",
    "    # Mengatur setiap properti dari class_data ke objek aircraft\n",
    "    for key, value in class_data.items():\n",
    "        setattr(aircraft, key, value)\n",
    "\n",
    "    aircraft.user_interface()  # Memanggil metode user_interface untuk menjalankan program"
   ]
  },
  {
   "cell_type": "markdown",
   "metadata": {},
   "source": [
    "## Penjelasan\n",
    "\n",
    "Program tersebut adalah sebuah kalkulator performa pesawat yang memungkinkan pengguna untuk menganalisis kinerja pesawat pada ketinggian tertentu. Pengguna dapat menghitung beberapa parameter performa pesawat yang penting dengan memasukkan nilai ketinggian. Ini mencakup kecepatan stall, yang merupakan kecepatan terendah yang dapat dipertahankan pesawat dalam penerbangan level sebelum mengalami stall. Program juga menghitung laju pendakian maksimum, yang merupakan laju vertikal tertinggi yang dapat dicapai pesawat. Selanjutnya, program menghitung daya tahan maksimum, yang merupakan waktu terpanjang yang pesawat dapat terbang dengan bahan bakar tersisa. Oleh karena itu, program ini meningkatkan pemahaman tentang bagaimana pesawat berfungsi dalam berbagai kondisi cuaca dan cuaca. Ini penting untuk perencanaan penerbangan, evaluasi keamanan, dan pengoptimalan operasional.\n",
    "\n",
    "1. Pada `air_density` menggunakan rumus massa jenis udara $ \\rho = 1.225 \\left(\\frac{T}{T_0}\\right)^{5.2561} $. Formula tersebut menghitung massa jenis udara pada ketinggian tertentu berdasarkan suhu standar atmosfer. \n",
    "\n",
    "\n",
    "2. Pada `stall_speed` menggunakan rumus $ V_{stall} = \\sqrt{\\frac{2 \\times W}{\\rho \\times S \\times C_{L\\_max}}} $\n",
    "\n",
    "\n",
    "3. Pada `max_rate_of_climb` menggunakan rumus $ ROC_{max} = \\frac{2 \\times P_{max\\_sea\\_level}}{\\rho \\times S \\times \\sqrt{\\frac{C_{D0}}{C_{L\\_max}}}} $\n",
    "\n",
    "\n",
    "4. Pada rumus jarak maksimum (`max_range`) menggunakan rumus $ Range_{max} = \\left( \\frac{2}{\\sqrt{C_{D0} \\times K}} \\right) \\times \\sqrt{\\frac{C_{L\\_max}}{\\rho}} \\times \\left( \\frac{P_{max\\_sea\\_level}}{W} \\right) $\n",
    "\n",
    "\n",
    "5. Pada daya tahan maksimum (`max_endurance`) menggunakan rumus $ Endurance_{max} = 2 \\times \\sqrt{\\frac{C_{L\\_max}}{C_{D0}}} \\times \\sqrt{\\frac{\\rho}{K}} \\times \\sqrt{\\frac{W}{P_{max\\_sea\\_level}}} $"
   ]
  },
  {
   "cell_type": "markdown",
   "metadata": {},
   "source": []
  }
 ],
 "metadata": {
  "kernelspec": {
   "display_name": "base",
   "language": "python",
   "name": "python3"
  },
  "language_info": {
   "codemirror_mode": {
    "name": "ipython",
    "version": 3
   },
   "file_extension": ".py",
   "mimetype": "text/x-python",
   "name": "python",
   "nbconvert_exporter": "python",
   "pygments_lexer": "ipython3",
   "version": "3.11.5"
  }
 },
 "nbformat": 4,
 "nbformat_minor": 2
}
