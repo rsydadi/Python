{
 "cells": [
  {
   "cell_type": "code",
   "execution_count": null,
   "id": "938379da-71fe-4688-90a3-a5ad0fb845d1",
   "metadata": {},
   "outputs": [],
   "source": [
    "#Coding Time halaman 16"
   ]
  },
  {
   "cell_type": "code",
   "execution_count": 1,
   "id": "f1f22d96-68f7-4114-abdd-803a51ac88b4",
   "metadata": {},
   "outputs": [],
   "source": [
    "a= 5.3*10**4\n",
    "b= 9"
   ]
  },
  {
   "cell_type": "code",
   "execution_count": 11,
   "id": "9c983097-c03b-4724-87fb-b1fcbc0ab49a",
   "metadata": {},
   "outputs": [
    {
     "data": {
      "text/plain": [
       "477000.0"
      ]
     },
     "execution_count": 11,
     "metadata": {},
     "output_type": "execute_result"
    }
   ],
   "source": [
    "a*b"
   ]
  },
  {
   "cell_type": "code",
   "execution_count": 12,
   "id": "be253ace-a7b1-4b6f-b477-7a4bff3da5fa",
   "metadata": {},
   "outputs": [
    {
     "data": {
      "text/plain": [
       "5888.888888888889"
      ]
     },
     "execution_count": 12,
     "metadata": {},
     "output_type": "execute_result"
    }
   ],
   "source": [
    "a/b"
   ]
  },
  {
   "cell_type": "code",
   "execution_count": 13,
   "id": "94dfc4be-aa12-4a4f-aa56-738f5b38a088",
   "metadata": {},
   "outputs": [
    {
     "data": {
      "text/plain": [
       "5888.0"
      ]
     },
     "execution_count": 13,
     "metadata": {},
     "output_type": "execute_result"
    }
   ],
   "source": [
    "a//b"
   ]
  },
  {
   "cell_type": "code",
   "execution_count": 15,
   "id": "83550c2e-b6ef-4f0e-910a-d68b4fa1df94",
   "metadata": {},
   "outputs": [
    {
     "data": {
      "text/plain": [
       "9.0"
      ]
     },
     "execution_count": 15,
     "metadata": {},
     "output_type": "execute_result"
    }
   ],
   "source": [
    "float(b)"
   ]
  },
  {
   "cell_type": "code",
   "execution_count": 16,
   "id": "ff82bc12-6e40-4ce4-b763-88feef672bc4",
   "metadata": {},
   "outputs": [
    {
     "data": {
      "text/plain": [
       "53000"
      ]
     },
     "execution_count": 16,
     "metadata": {},
     "output_type": "execute_result"
    }
   ],
   "source": [
    "int(a)"
   ]
  },
  {
   "cell_type": "code",
   "execution_count": 29,
   "id": "ab7eaa48-ce0d-4730-a9ce-bffa95f44bbf",
   "metadata": {},
   "outputs": [],
   "source": [
    "k1= 89 + 6j\n",
    "k2= 76 + 4j"
   ]
  },
  {
   "cell_type": "code",
   "execution_count": 30,
   "id": "365ea8b6-c789-4dc3-92e5-b3dc815f1a3b",
   "metadata": {},
   "outputs": [
    {
     "data": {
      "text/plain": [
       "89.0"
      ]
     },
     "execution_count": 30,
     "metadata": {},
     "output_type": "execute_result"
    }
   ],
   "source": [
    "k1.real"
   ]
  },
  {
   "cell_type": "code",
   "execution_count": 32,
   "id": "c694efe5-c183-45c7-98ff-a71d81348d14",
   "metadata": {},
   "outputs": [
    {
     "data": {
      "text/plain": [
       "6.0"
      ]
     },
     "execution_count": 32,
     "metadata": {},
     "output_type": "execute_result"
    }
   ],
   "source": [
    "k1.imag"
   ]
  },
  {
   "cell_type": "code",
   "execution_count": 33,
   "id": "2999fb2f-3d34-4c01-b86a-dad7ac76b410",
   "metadata": {},
   "outputs": [
    {
     "data": {
      "text/plain": [
       "76.0"
      ]
     },
     "execution_count": 33,
     "metadata": {},
     "output_type": "execute_result"
    }
   ],
   "source": [
    "k2.real"
   ]
  },
  {
   "cell_type": "code",
   "execution_count": 34,
   "id": "fd66944e-1556-41e9-a2fa-6958bc273e57",
   "metadata": {},
   "outputs": [
    {
     "data": {
      "text/plain": [
       "4.0"
      ]
     },
     "execution_count": 34,
     "metadata": {},
     "output_type": "execute_result"
    }
   ],
   "source": [
    "k2.imag"
   ]
  },
  {
   "cell_type": "code",
   "execution_count": 35,
   "id": "01399261-3324-4884-88e8-a9c9e36e0d40",
   "metadata": {},
   "outputs": [
    {
     "data": {
      "text/plain": [
       "(6740+812j)"
      ]
     },
     "execution_count": 35,
     "metadata": {},
     "output_type": "execute_result"
    }
   ],
   "source": [
    "k1*k2"
   ]
  },
  {
   "cell_type": "code",
   "execution_count": 36,
   "id": "8fc1f5ea-6e5d-47e5-aca3-53e1d9dc4d09",
   "metadata": {},
   "outputs": [
    {
     "data": {
      "text/plain": [
       "(165+10j)"
      ]
     },
     "execution_count": 36,
     "metadata": {},
     "output_type": "execute_result"
    }
   ],
   "source": [
    "k1+k2"
   ]
  },
  {
   "cell_type": "code",
   "execution_count": 37,
   "id": "691fa961-6621-4c61-ad13-21168f9461f1",
   "metadata": {},
   "outputs": [
    {
     "data": {
      "text/plain": [
       "(13+2j)"
      ]
     },
     "execution_count": 37,
     "metadata": {},
     "output_type": "execute_result"
    }
   ],
   "source": [
    "k1-k2"
   ]
  },
  {
   "cell_type": "code",
   "execution_count": 38,
   "id": "3f448ee5-6680-4052-acda-ce644a27fa25",
   "metadata": {},
   "outputs": [
    {
     "data": {
      "text/plain": [
       "(1.1719613259668507+0.017265193370165747j)"
      ]
     },
     "execution_count": 38,
     "metadata": {},
     "output_type": "execute_result"
    }
   ],
   "source": [
    "k1/k2"
   ]
  },
  {
   "cell_type": "code",
   "execution_count": 39,
   "id": "e7a6f872-c28e-42b1-b0d7-a4ca012dd20a",
   "metadata": {},
   "outputs": [
    {
     "ename": "TypeError",
     "evalue": "unsupported operand type(s) for //: 'complex' and 'complex'",
     "output_type": "error",
     "traceback": [
      "\u001b[1;31m---------------------------------------------------------------------------\u001b[0m",
      "\u001b[1;31mTypeError\u001b[0m                                 Traceback (most recent call last)",
      "Cell \u001b[1;32mIn[39], line 1\u001b[0m\n\u001b[1;32m----> 1\u001b[0m k1\u001b[38;5;241m/\u001b[39m\u001b[38;5;241m/\u001b[39mk2\n",
      "\u001b[1;31mTypeError\u001b[0m: unsupported operand type(s) for //: 'complex' and 'complex'"
     ]
    }
   ],
   "source": [
    "k1//k2"
   ]
  },
  {
   "cell_type": "code",
   "execution_count": 1,
   "id": "f0cba02e-5ccc-4d6e-912c-cc74ab9dadb6",
   "metadata": {},
   "outputs": [],
   "source": [
    "#Coding Time halaman 17"
   ]
  },
  {
   "cell_type": "code",
   "execution_count": null,
   "id": "eff88afd-6412-4d34-9139-986b09261935",
   "metadata": {},
   "outputs": [],
   "source": []
  }
 ],
 "metadata": {
  "kernelspec": {
   "display_name": "Python 3 (ipykernel)",
   "language": "python",
   "name": "python3"
  },
  "language_info": {
   "codemirror_mode": {
    "name": "ipython",
    "version": 3
   },
   "file_extension": ".py",
   "mimetype": "text/x-python",
   "name": "python",
   "nbconvert_exporter": "python",
   "pygments_lexer": "ipython3",
   "version": "3.11.5"
  }
 },
 "nbformat": 4,
 "nbformat_minor": 5
}
