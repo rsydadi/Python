{
 "cells": [
  {
   "cell_type": "markdown",
   "metadata": {},
   "source": [
    "Capaian Pembelajaran\n",
    "Memahami dan dapat menerapkan prinsip interpolasi linier"
   ]
  },
  {
   "cell_type": "markdown",
   "metadata": {},
   "source": [
    "Interpolasi Linier\n",
    "\n",
    "Interpolasi linier adalah metode sederhana untuk memperkirakan nilai antara dua titik data. Jika memiliki da titik (x0, y0) dan (x1.y1), maka interpolasi linier antara dua titik tersebut adalah garis lrus yang menghubungkannya"
   ]
  },
  {
   "cell_type": "code",
   "execution_count": null,
   "metadata": {},
   "outputs": [],
   "source": [
    "import numpy as np\n",
    "import matplotlib.pyplot as plt\n",
    "\n",
    "# Titik data\n",
    "x = np.array([0.5, 2.0, 4.0, 5.0, 7.0, 9.0])\n",
    "y = np.array([0.5, 0.4, 0.3, 0.1, 0.9, 0.8])\n",
    "\n",
    "def lin_interp(x0, y0, x1, y1, x):\n",
    "    \"\"\"Menghitung nilai interpolasi linier di titik x.\"\"\"\n",
    "    m = (y1 - y0) / (x1 - x0)\n",
    "    return y0 + m * (x - x0)\n",
    "\n",
    "# Nilai x baru untuk evaluasi interpolasi linier\n",
    "x_new = np.linspace(min(x), max(x), 100)\n",
    "y_new = np.zeros_like(x_new)\n",
    "\n",
    "# Lakukan interpolasi linier untuk setiap interval\n",
    "for i in range(len(x) - 1):\n",
    "    mask = (x_new >= x[i]) & (x_new <= x[i + 1])\n",
    "    y_new[mask] = lin_interp(x[i], y[i], x[i + 1], y[i + 1], x_new[mask])\n",
    "\n",
    "# Plot data asli dan hasil interpolasi linier\n",
    "plt.scatter(x, y, color='red', label='Titik Data Asli')\n",
    "plt.plot(x_new, y_new, label='Interpolasi Linier')\n",
    "plt.xlabel('x')\n",
    "plt.ylabel('y')\n",
    "plt.title('Interpolasi Linier')\n",
    "plt.legend()\n",
    "plt.show()\n"
   ]
  }
 ],
 "metadata": {
  "language_info": {
   "name": "python"
  }
 },
 "nbformat": 4,
 "nbformat_minor": 2
}
