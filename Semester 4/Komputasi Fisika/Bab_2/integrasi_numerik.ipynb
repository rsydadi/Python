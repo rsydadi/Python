{
 "cells": [
  {
   "cell_type": "code",
   "execution_count": 1,
   "metadata": {},
   "outputs": [
    {
     "name": "stdout",
     "output_type": "stream",
     "text": [
      "Jumlah interval | Error Titik Tengah | Error Trapesium | Error Simpson\n",
      "----------------------------------------------------------------------\n",
      "10              | 3.33333333e+00    | 3.33333333e+00  | 3.33333333e+00 \n",
      "20              | 3.33333333e+00    | 3.33333333e+00  | 3.33333333e+00 \n",
      "50              | 3.33333333e+00    | 3.33333333e+00  | 3.33333333e+00 \n",
      "100             | 3.33333333e+00    | 3.33333333e+00  | 3.33333333e+00 \n",
      "200             | 3.33333333e+00    | 3.33333333e+00  | 3.33333333e+00 \n"
     ]
    }
   ],
   "source": [
    "import numpy as np\n",
    "\n",
    "# Fungsi untuk menghitung usaha yang dilakukan oleh gaya\n",
    "def force(x):\n",
    "    return 5 * x\n",
    "\n",
    "# Fungsi untuk menghitung integral numerik dengan aturan titik tengah\n",
    "def midpoint_rule(func, a, b, n):\n",
    "    h = (b - a) / n\n",
    "    result = 0\n",
    "    for i in range(n):\n",
    "        result += func(a + (i + 0.5) * h)\n",
    "    result *= h\n",
    "    return result\n",
    "\n",
    "# Fungsi untuk menghitung integral numerik dengan aturan trapesium\n",
    "def trapezoidal_rule(func, a, b, n):\n",
    "    h = (b - a) / n\n",
    "    result = 0.5 * (func(a) + func(b))\n",
    "    for i in range(1, n):\n",
    "        result += func(a + i * h)\n",
    "    result *= h\n",
    "    return result\n",
    "\n",
    "# Fungsi untuk menghitung integral numerik dengan aturan Simpson\n",
    "def simpsons_rule(func, a, b, n):\n",
    "    h = (b - a) / n\n",
    "    result = func(a) + func(b)\n",
    "    for i in range(1, n, 2):\n",
    "        result += 4 * func(a + i * h)\n",
    "    for i in range(2, n-1, 2):\n",
    "        result += 2 * func(a + i * h)\n",
    "    result *= h / 3\n",
    "    return result\n",
    "\n",
    "# Solusi analitis\n",
    "analytical_solution = 40/3\n",
    "\n",
    "# Jumlah interval yang diinginkan\n",
    "intervals = [10, 20, 50, 100, 200]\n",
    "\n",
    "# Header untuk hasil\n",
    "print(\"Jumlah interval | Error Titik Tengah | Error Trapesium | Error Simpson\")\n",
    "print(\"-\" * 70)\n",
    "\n",
    "# Menghitung dan menampilkan hasil untuk setiap jumlah interval\n",
    "for n in intervals:\n",
    "    midpoint_result = midpoint_rule(force, 0, 2, n)\n",
    "    trapezoidal_result = trapezoidal_rule(force, 0, 2, n)\n",
    "    simpsons_result = simpsons_rule(force, 0, 2, n)\n",
    "    \n",
    "    # Menghitung error\n",
    "    midpoint_error = abs(midpoint_result - analytical_solution)\n",
    "    trapezoidal_error = abs(trapezoidal_result - analytical_solution)\n",
    "    simpsons_error = abs(simpsons_result - analytical_solution)\n",
    "    \n",
    "    # Menampilkan hasil\n",
    "    print(f\"{n:<15} | {midpoint_error:<17.8e} | {trapezoidal_error:<15.8e} | {simpsons_error:<15.8e}\")\n"
   ]
  },
  {
   "cell_type": "code",
   "execution_count": null,
   "metadata": {},
   "outputs": [],
   "source": []
  }
 ],
 "metadata": {
  "kernelspec": {
   "display_name": "base",
   "language": "python",
   "name": "python3"
  },
  "language_info": {
   "codemirror_mode": {
    "name": "ipython",
    "version": 3
   },
   "file_extension": ".py",
   "mimetype": "text/x-python",
   "name": "python",
   "nbconvert_exporter": "python",
   "pygments_lexer": "ipython3",
   "version": "3.11.5"
  }
 },
 "nbformat": 4,
 "nbformat_minor": 2
}
