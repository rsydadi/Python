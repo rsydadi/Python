{
 "cells": [
  {
   "cell_type": "markdown",
   "metadata": {},
   "source": [
    "### Rasyid Adi Sulistiawan\n",
    "### 22306144037\n",
    "### Fisika B 2022"
   ]
  },
  {
   "cell_type": "markdown",
   "metadata": {},
   "source": [
    "Capaian Pembelajaran\n",
    "\n",
    "Memahami dan dapat menerapkan metoda eulur untuk menyelesaikan PDB dengan python\n",
    "\n",
    "Memahami dan menerapkan metode Euler untuk menyelesaikan Persamaan Diferensial Biasa (PDB) dengan Python adalah keterampilan yang sangat berguna dalam analisis numerik dan pemodelan matematika. Metode Euler adalah teknik numerik sederhana namun efektif yang digunakan untuk mencari solusi perkiraan dari PDB. Metode ini dimulai dengan kondisi awal yang diketahui, dan kemudian melangkah maju dalam interval kecil sepanjang kurva solusi. Pada setiap titik, kemiringan (turunan) dari kurva digunakan untuk menentukan nilai berikutnya dari variabel yang kita coba hitung. Proses ini dilakukan dengan menggunakan formula $y_{n+1} = y_n + h \\cdot f(t_n, y_n)$, di mana $h$ adalah ukuran langkah, $t_n$ dan $y_n$ adalah nilai saat ini dari variabel waktu dan fungsi yang dihitung, dan $f(t_n, y_n)$ adalah turunan fungsi pada titik tersebut.\n",
    "\n",
    "Dalam implementasi dengan Python, kita mulai dengan mendefinisikan kondisi awal dan fungsi yang menunjukkan turunan dari PDB. Kemudian, kita menggunakan rumus metode Euler untuk iteratif memperbarui nilai $y$, melangkah maju sebesar ukuran langkah $h$ setiap kali, proses ini diulang sampai kita mencapai jumlah langkah atau batas waktu yang diinginkan. Dengan cara ini, kita mendapatkan perkiraan solusi PDB dalam bentuk deretan nilai $y$ pada titik-titik waktu. Meskipun metode Euler sederhana dan mudah digunakan, ia tidak selalu akurat. Ini terutama berlaku untuk masalah dengan perubahan besar yang cepat atau tidak linier. Namun, metode ini memberikan solusi yang cukup baik untuk banyak masalah praktis dengan perubahan yang relatif lambat, dan dapat menjadi titik awal untuk teknik numerik yang lebih canggih."
   ]
  },
  {
   "cell_type": "code",
   "execution_count": null,
   "metadata": {},
   "outputs": [],
   "source": []
  }
 ],
 "metadata": {
  "kernelspec": {
   "display_name": "base",
   "language": "python",
   "name": "python3"
  },
  "language_info": {
   "codemirror_mode": {
    "name": "ipython",
    "version": 3
   },
   "file_extension": ".py",
   "mimetype": "text/x-python",
   "name": "python",
   "nbconvert_exporter": "python",
   "pygments_lexer": "ipython3",
   "version": "3.11.5"
  }
 },
 "nbformat": 4,
 "nbformat_minor": 2
}
