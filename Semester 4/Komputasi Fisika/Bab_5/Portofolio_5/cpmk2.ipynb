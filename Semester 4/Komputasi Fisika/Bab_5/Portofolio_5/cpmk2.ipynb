{
 "cells": [
  {
   "cell_type": "markdown",
   "metadata": {},
   "source": [
    "### Rasyid Adi Sulistiawan\n",
    "### 22306144037\n",
    "### Fisika B 2022"
   ]
  },
  {
   "cell_type": "markdown",
   "metadata": {},
   "source": [
    "Capaian Pembelajaran\n",
    "\n",
    "Memahami dan dapat menerapkan metoda Runge-Kutta untuk menyelesaikan PDB dengan Python\n",
    "\n",
    "Memahami dan menerapkan metode Runge-Kutta, khususnya Orde 4 (RK4), untuk menyelesaikan Persamaan Diferensial Biasa (PDB) dengan Python adalah langkah penting dalam analisis numerik yang memberikan akurasi lebih tinggi dibandingkan metode Euler. Metode Runge-Kutta Orde 4 (RK4) adalah metode numerik yang menggabungkan beberapa perkiraan turunan dalam setiap iterasi untuk menghasilkan solusi yang lebih tepat. Metode ini terdiri dari empat perhitungan sementara yang disebut $k1$, $k2$, $k3$, dan $k4$ untuk setiap langkah: $k1$ adalah turunan awal di titik saat ini, $k2$ adalah turunan di titik menengah pertama yang menggunakan $k1$ untuk melangkah setengah ukuran langkah $h$, $k3$ adalah turunan di titik menengah kedua yang menggunakan $k1$ untuk melangkah setengah ukuran langkah $h$, dan $k4\n",
    "\n",
    "Proses ini dimulai dengan menghitung $k1 = h f(t_n, y_n)$, $k2 = h f(t_n + h/2, y_n + k1/2)$, $k3 = h f(t_n + h/2, y_n + k2/2)$, dan $k4 = h f(t_n + h, y_n + k3)$. Setelah menghitung semua nilai awal ini, nilai solusi diperbarui dengan menggunakan rumus $y_{n+1} = y$.\n",
    "\n",
    "Dalam implementasi Python, kita mulai dengan mendefinisikan fungsi yang mewakili PDB, kemudian menetapkan kondisi awal dan ukuran langkah $h$. Iterasi dilakukan dengan menghitung $k1$ hingga $k4$ pada setiap langkah, dan kemudian memperbarui nilai $y$ menggunakan formula RK4. Metode ini sangat berguna untuk masalah yang memerlukan akurasi tinggi dalam simulasi jangka panjang atau ketika solusi harus dihitung pada interval waktu yang tidak praktis untuk ukuran langkah yang sangat kecil. Dengan menggunakan RK4, kita mendapatkan solusi numerik yang lebih stabil dan akurat, menjadikannya pilihan yang lebih baik untuk banyak aplikasi dalam sains dan teknik."
   ]
  }
 ],
 "metadata": {
  "language_info": {
   "name": "python"
  }
 },
 "nbformat": 4,
 "nbformat_minor": 2
}
