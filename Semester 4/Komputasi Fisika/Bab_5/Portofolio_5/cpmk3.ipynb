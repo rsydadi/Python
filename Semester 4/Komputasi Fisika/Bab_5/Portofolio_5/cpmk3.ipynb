{
 "cells": [
  {
   "cell_type": "markdown",
   "metadata": {},
   "source": [
    "### Rasyid Adi Sulistiawan\n",
    "### 22306144037\n",
    "### Fisika B 2022"
   ]
  },
  {
   "cell_type": "markdown",
   "metadata": {},
   "source": [
    "Capaian Pembelajaran\n",
    "\n",
    "Dapat menganalisis error dari metoda numerik yang digunakan\n",
    "\n",
    "Analisis error metode numerik adalah bagian penting dari memahami efektivitas dan keakuratan teknik tersebut. Proses ini melibatkan membandingkan solusi numerik yang dihasilkan dengan solusi analitik, jika tersedia, atau dengan solusi numerik yang lebih akurat yang dihitung dengan teknik yang lebih presisi. Error trunkasi lokal dan global adalah dua jenis error utama yang perlu dianalisis dalam konteks metode numerik.\n",
    "\n",
    "Error trunkasi global adalah akumulasi dari semua error trunkasi lokal selama seluruh interval perhitungan, yang menunjukkan perbedaan antara solusi numerik dan solusi eksak setelah satu langkah iterasi. Sebaliknya, error trunkasi lokal adalah perbedaan antara solusi numerik dan solusi eksak setelah satu langkah iterasi. Ini menunjukkan seberapa baik metode numerik mendekati solusi eksak pada setiap langkah.\n",
    "\n",
    "Error trunkasi global metode Euler berkisar pada orde $O(h)$, yang berarti bahwa error berbanding lurus dengan ukuran langkah $h$, sehingga error meningkat secara proporsional jika ukuran langkah diperbesar. Ini menunjukkan bahwa metode Euler dapat menghasilkan error yang signifikan dalam situasi di mana ukuran langkah tidak cukup kecil, terutama selama interval waktu yang panjang. Akibatnya, metode Euler biasanya digunakan dengan ukuran langkah yang sangat besar.\n",
    "\n",
    "Sebaliknya, untuk ukuran langkah yang sama, metode Runge-Kutta Orde 4 (RK4) memiliki error trunkasi global yang berkisar pada orde $O(h^2)$, yang menunjukkan bahwa errornya jauh lebih kecil daripada metode Euler. Dengan kata lain, RK4 menghasilkan solusi yang lebih akurat dengan ukuran langkah yang lebih besar, yang menghasilkan jumlah perhitungan yang lebih sedikit untuk mencapai tingkat akurasi yang sama. Nilai solusi baru dihitung oleh RK4 pada setiap langkah iterasi dengan empat nilai sementara (k1, k2, k3, dan k4). Setiap nilai sementara memberikan perkiraan turunan pada titik-titik tertentu selama langkah iterasi, dan kemudian nilai rata-rata tertimbang dari nilai-nilai ini digunakan untuk menghasilkan hasil akhirnya. Pendekatan ini memberikan peningkatan akurasi yang signifikan dan menjadikan RK4 pilihan yang lebih baik untuk banyak aplikasi yang membutuhkan hasil yang sangat akurat.\n",
    "\n",
    "Dengan memahami dan menganalisis error trunkasi lokal dan global, kita dapat memilih metode numerik yang paling sesuai untuk suatu masalah tertentu, mengubah ukuran langkah untuk mengurangi kesalahan, dan mendapatkan hasil yang lebih akurat."
   ]
  },
  {
   "cell_type": "markdown",
   "metadata": {},
   "source": []
  }
 ],
 "metadata": {
  "language_info": {
   "name": "python"
  }
 },
 "nbformat": 4,
 "nbformat_minor": 2
}
